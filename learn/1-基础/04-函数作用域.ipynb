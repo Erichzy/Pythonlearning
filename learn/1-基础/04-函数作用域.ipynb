{
 "cells": [
  {
   "cell_type": "markdown",
   "metadata": {},
   "source": [
    "# 变量作用域\n",
    "- 变量有作用范围限制\n",
    "- 分类:按照作用分类\n",
    "    - 全局(global):在函数外部定义\n",
    "    - 局部(local):在函数内部定义\n",
    "\n",
    "- 变量的作用范围:\n",
    "    - 全局变量:在整个全局范围内都有效\n",
    "    - 全局变量在局部可以使用(即函数内部可以使用在函数外部定义的变量)\n",
    "    - 局部变量在局部范围可以使用\n",
    "    - 局部变量在全局范围内无法使用\n",
    "- LEGB原则:\n",
    "    - L(LOCAL):局部作用域\n",
    "    - E(Enclosing function locale):外部嵌套函数作用域\n",
    "    - G(Global module):函数定义所在模块作用域\n",
    "    - B(Buidin):Python内置模块作用域"
   ]
  },
  {
   "cell_type": "code",
   "execution_count": 6,
   "metadata": {},
   "outputs": [
    {
     "name": "stdout",
     "output_type": "stream",
     "text": [
      "100\n",
      "I in fun\n",
      "99\n",
      "********************\n",
      "100\n"
     ]
    },
    {
     "ename": "NameError",
     "evalue": "name 'a2' is not defined",
     "output_type": "error",
     "traceback": [
      "\u001b[1;31m---------------------------------------------------------------------------\u001b[0m",
      "\u001b[1;31mNameError\u001b[0m                                 Traceback (most recent call last)",
      "\u001b[1;32m<ipython-input-6-afa6f564349a>\u001b[0m in \u001b[0;36m<module>\u001b[1;34m()\u001b[0m\n\u001b[0;32m     10\u001b[0m \u001b[0mprint\u001b[0m\u001b[1;33m(\u001b[0m\u001b[1;34m\"*\"\u001b[0m \u001b[1;33m*\u001b[0m \u001b[1;36m20\u001b[0m\u001b[1;33m)\u001b[0m\u001b[1;33m\u001b[0m\u001b[0m\n\u001b[0;32m     11\u001b[0m \u001b[0mprint\u001b[0m\u001b[1;33m(\u001b[0m\u001b[0ma1\u001b[0m\u001b[1;33m)\u001b[0m\u001b[1;33m\u001b[0m\u001b[0m\n\u001b[1;32m---> 12\u001b[1;33m \u001b[0mprint\u001b[0m\u001b[1;33m(\u001b[0m\u001b[0ma2\u001b[0m\u001b[1;33m)\u001b[0m\u001b[1;31m# 会报错\u001b[0m\u001b[1;33m\u001b[0m\u001b[0m\n\u001b[0m",
      "\u001b[1;31mNameError\u001b[0m: name 'a2' is not defined"
     ]
    }
   ],
   "source": [
    "# 作用域的例子\n",
    "a1 = 100# 全部变量\n",
    "\n",
    "def fun():\n",
    "    print(a1)\n",
    "    print(\"I in fun\")\n",
    "    a2 = 99# 局部变量,作用范围是fun\n",
    "    print(a2)\n",
    "fun()\n",
    "print(\"*\" * 20)\n",
    "print(a1)\n",
    "print(a2)# 会报错"
   ]
  },
  {
   "cell_type": "markdown",
   "metadata": {},
   "source": [
    "## 提升局部变量为全局变量\n",
    "- 使用global\n",
    "- 案例如下"
   ]
  },
  {
   "cell_type": "code",
   "execution_count": 2,
   "metadata": {},
   "outputs": [
    {
     "name": "stdout",
     "output_type": "stream",
     "text": [
      "100\n",
      "I in fun\n",
      "99\n",
      "********************\n",
      "100\n",
      "99\n"
     ]
    }
   ],
   "source": [
    "# 作用域的例子\n",
    "b1 = 100# 全部变量\n",
    "\n",
    "def fun():\n",
    "    print(b1)\n",
    "    print(\"I in fun\")\n",
    "    global b2 \n",
    "    b2 = 99\n",
    "    print(b2)\n",
    "fun()\n",
    "print(\"*\" * 20)\n",
    "print(b1)\n",
    "print(b2)"
   ]
  },
  {
   "cell_type": "markdown",
   "metadata": {},
   "source": [
    "# globals,locals函数\n",
    "- 可以通过globals,locals显示出局部变量和全局变量\n",
    "- 参考以下案例"
   ]
  },
  {
   "cell_type": "code",
   "execution_count": 18,
   "metadata": {},
   "outputs": [
    {
     "name": "stdout",
     "output_type": "stream",
     "text": [
      "locals={'c': 100, 'd': 200, 'e': 111}\n",
      "globals={'__name__': '__main__', '__doc__': 'Automatically created module for IPython interactive environment', '__package__': None, '__loader__': None, '__spec__': None, '__builtin__': <module 'builtins' (built-in)>, '__builtins__': <module 'builtins' (built-in)>, '_ih': ['', 'a1 = 100\\n\\ndef fun():\\n    print(a1)\\n    print(\"I in fun\")\\n    a2 = 99\\n    print(a2)\\n    \\nprint(a1)', 'a1 = 100\\n\\ndef fun():\\n    print(a1)\\n    print(\"I in fun\")\\n    a2 = 99\\n    print(a2)\\n    \\nprint(a1)\\nprint(a2)', '# 作用域的例子\\na1 = 100# 全部变量\\n\\ndef fun():\\n    print(a1)\\n    print(\"I in fun\")\\n    a2 = 99# 局部变量\\n    print(a2)\\n    \\nprint(a1)\\nprint(a2)', '# 作用域的例子\\na1 = 100# 全部变量\\n\\ndef fun():\\n    print(a1)\\n    print(\"I in fun\")\\n    a2 = 99# 局部变量\\n    print(a2)\\nfun()    \\nprint(a1)\\nprint(a2)', '# 作用域的例子\\na1 = 100# 全部变量\\n\\ndef fun():\\n    print(a1)\\n    print(\"I in fun\")\\n    a2 = 99# 局部变量,作用范围是fun\\n    print(a2)\\nfun()\\nprint(\"*\" * 20)\\nprint(a1)\\nprint(a2)# 会报错', '# 作用域的例子\\na1 = 100# 全部变量\\n\\ndef fun():\\n    print(a1)\\n    print(\"I in fun\")\\n    a2 = 99# 局部变量,作用范围是fun\\n    print(a2)\\nfun()\\nprint(\"*\" * 20)\\nprint(a1)\\nprint(a2)# 会报错', '# 作用域的例子\\nb1 = 100# 全部变量\\n\\ndef fun():\\n    print(b1)\\n    print(\"I in fun\")\\n    global b2 = 99# 局部变量,作用范围是fun\\n    print(b2)\\nfun()\\nprint(\"*\" * 20)\\nprint(a1)\\nprint(a2)# 会报错', '# 作用域的例子\\nb1 = 100# 全部变量\\n\\ndef fun():\\n    print(b1)\\n    print(\"I in fun\")\\n    global b2 \\n    b2 = 99 # 局部变量,作用范围是fun\\n    print(b2)\\nfun()\\nprint(\"*\" * 20)\\nprint(a1)\\nprint(a2)# 会报错', '# 作用域的例子\\nb1 = 100# 全部变量\\n\\ndef fun():\\n    print(b1)\\n    print(\"I in fun\")\\n    global b2 \\n    b2 = 99\\n    print(b2)\\nfun()\\nprint(\"*\" * 20)\\nprint(a1)\\nprint(a2)', '# 作用域的例子\\nb1 = 100# 全部变量\\n\\ndef fun():\\n    print(b1)\\n    print(\"I in fun\")\\n    global b2 \\n    b2 = 99\\n    print(b2)\\nfun()\\nprint(\"*\" * 20)\\nprint(a1)\\nprint(a2)', '# 作用域的例子\\nb1 = 100# 全部变量\\n\\ndef fun():\\n    print(b1)\\n    print(\"I in fun\")\\n    global b2 \\n    b2 = 99\\n    print(b2)\\nfun()\\nprint(\"*\" * 20)\\nprint(a1)\\nprint(a2)', '# 作用域的例子\\nb1 = 100# 全部变量\\n\\ndef fun():\\n    print(b1)\\n    print(\"I in fun\")\\n    global b2 \\n    b2 = 99\\n    print(b2)\\nfun()\\nprint(\"*\" * 20)\\nprint(a1)\\nprint(a2)', '# 作用域的例子\\nb1 = 100# 全部变量\\n\\ndef fun():\\n    print(b1)\\n    print(\"I in fun\")\\n    global b2 \\n    b2 = 99\\n    print(b2)\\nfun()\\nprint(\"*\" * 20)\\nprint(a1)\\nprint(a2)', '# 作用域的例子\\nb1 = 100# 全部变量\\n\\ndef fun():\\n    print(b1)\\n    print(\"I in fun\")\\n    global b2 \\n    b2 = 99\\n    print(b2)\\nfun()\\nprint(\"*\" * 20)\\nprint(a1)\\nprint(a2)', '# 作用域的例子\\nb1 = 100# 全部变量\\n\\ndef fun():\\n    print(b1)\\n    print(\"I in fun\")\\n    global b2 \\n    b2 = 99\\n    print(b2)\\nfun()\\nprint(\"*\" * 20)\\nprint(a1)\\nprint(a2)', '# globals 和 locals\\na = 1\\nb = 2\\n\\ndef fun(c,d):\\n    e = 111\\n    print(\"locals={0}\".format(locals))\\n    print(\"globals={0}\".format(globals()))\\n    \\nfun(100,200)', '# globals 和 locals\\na = 1\\nb = 2\\n\\ndef fun(c, d):\\n    e = 111\\n    print(\"locals={0}\".format(locals()))\\n    print(\"globals={0}\".format(globals()))\\n    \\nfun(100, 200)', '# globals 和 locals\\n# globals 和 locals就是内建函数\\na = 1\\nb = 2\\n\\ndef fun(c, d):\\n    e = 111\\n    print(\"locals={0}\".format(locals()))\\n    print(\"globals={0}\".format(globals()))\\n    \\nfun(100, 200)'], '_oh': {}, '_dh': ['C:\\\\Users\\\\ihuan'], 'In': ['', 'a1 = 100\\n\\ndef fun():\\n    print(a1)\\n    print(\"I in fun\")\\n    a2 = 99\\n    print(a2)\\n    \\nprint(a1)', 'a1 = 100\\n\\ndef fun():\\n    print(a1)\\n    print(\"I in fun\")\\n    a2 = 99\\n    print(a2)\\n    \\nprint(a1)\\nprint(a2)', '# 作用域的例子\\na1 = 100# 全部变量\\n\\ndef fun():\\n    print(a1)\\n    print(\"I in fun\")\\n    a2 = 99# 局部变量\\n    print(a2)\\n    \\nprint(a1)\\nprint(a2)', '# 作用域的例子\\na1 = 100# 全部变量\\n\\ndef fun():\\n    print(a1)\\n    print(\"I in fun\")\\n    a2 = 99# 局部变量\\n    print(a2)\\nfun()    \\nprint(a1)\\nprint(a2)', '# 作用域的例子\\na1 = 100# 全部变量\\n\\ndef fun():\\n    print(a1)\\n    print(\"I in fun\")\\n    a2 = 99# 局部变量,作用范围是fun\\n    print(a2)\\nfun()\\nprint(\"*\" * 20)\\nprint(a1)\\nprint(a2)# 会报错', '# 作用域的例子\\na1 = 100# 全部变量\\n\\ndef fun():\\n    print(a1)\\n    print(\"I in fun\")\\n    a2 = 99# 局部变量,作用范围是fun\\n    print(a2)\\nfun()\\nprint(\"*\" * 20)\\nprint(a1)\\nprint(a2)# 会报错', '# 作用域的例子\\nb1 = 100# 全部变量\\n\\ndef fun():\\n    print(b1)\\n    print(\"I in fun\")\\n    global b2 = 99# 局部变量,作用范围是fun\\n    print(b2)\\nfun()\\nprint(\"*\" * 20)\\nprint(a1)\\nprint(a2)# 会报错', '# 作用域的例子\\nb1 = 100# 全部变量\\n\\ndef fun():\\n    print(b1)\\n    print(\"I in fun\")\\n    global b2 \\n    b2 = 99 # 局部变量,作用范围是fun\\n    print(b2)\\nfun()\\nprint(\"*\" * 20)\\nprint(a1)\\nprint(a2)# 会报错', '# 作用域的例子\\nb1 = 100# 全部变量\\n\\ndef fun():\\n    print(b1)\\n    print(\"I in fun\")\\n    global b2 \\n    b2 = 99\\n    print(b2)\\nfun()\\nprint(\"*\" * 20)\\nprint(a1)\\nprint(a2)', '# 作用域的例子\\nb1 = 100# 全部变量\\n\\ndef fun():\\n    print(b1)\\n    print(\"I in fun\")\\n    global b2 \\n    b2 = 99\\n    print(b2)\\nfun()\\nprint(\"*\" * 20)\\nprint(a1)\\nprint(a2)', '# 作用域的例子\\nb1 = 100# 全部变量\\n\\ndef fun():\\n    print(b1)\\n    print(\"I in fun\")\\n    global b2 \\n    b2 = 99\\n    print(b2)\\nfun()\\nprint(\"*\" * 20)\\nprint(a1)\\nprint(a2)', '# 作用域的例子\\nb1 = 100# 全部变量\\n\\ndef fun():\\n    print(b1)\\n    print(\"I in fun\")\\n    global b2 \\n    b2 = 99\\n    print(b2)\\nfun()\\nprint(\"*\" * 20)\\nprint(a1)\\nprint(a2)', '# 作用域的例子\\nb1 = 100# 全部变量\\n\\ndef fun():\\n    print(b1)\\n    print(\"I in fun\")\\n    global b2 \\n    b2 = 99\\n    print(b2)\\nfun()\\nprint(\"*\" * 20)\\nprint(a1)\\nprint(a2)', '# 作用域的例子\\nb1 = 100# 全部变量\\n\\ndef fun():\\n    print(b1)\\n    print(\"I in fun\")\\n    global b2 \\n    b2 = 99\\n    print(b2)\\nfun()\\nprint(\"*\" * 20)\\nprint(a1)\\nprint(a2)', '# 作用域的例子\\nb1 = 100# 全部变量\\n\\ndef fun():\\n    print(b1)\\n    print(\"I in fun\")\\n    global b2 \\n    b2 = 99\\n    print(b2)\\nfun()\\nprint(\"*\" * 20)\\nprint(a1)\\nprint(a2)', '# globals 和 locals\\na = 1\\nb = 2\\n\\ndef fun(c,d):\\n    e = 111\\n    print(\"locals={0}\".format(locals))\\n    print(\"globals={0}\".format(globals()))\\n    \\nfun(100,200)', '# globals 和 locals\\na = 1\\nb = 2\\n\\ndef fun(c, d):\\n    e = 111\\n    print(\"locals={0}\".format(locals()))\\n    print(\"globals={0}\".format(globals()))\\n    \\nfun(100, 200)', '# globals 和 locals\\n# globals 和 locals就是内建函数\\na = 1\\nb = 2\\n\\ndef fun(c, d):\\n    e = 111\\n    print(\"locals={0}\".format(locals()))\\n    print(\"globals={0}\".format(globals()))\\n    \\nfun(100, 200)'], 'Out': {}, 'get_ipython': <bound method InteractiveShell.get_ipython of <ipykernel.zmqshell.ZMQInteractiveShell object at 0x000001B28EBD56A0>>, 'exit': <IPython.core.autocall.ZMQExitAutocall object at 0x000001B28F99ACF8>, 'quit': <IPython.core.autocall.ZMQExitAutocall object at 0x000001B28F99ACF8>, '_': '', '__': '', '___': '', '_i': '# globals 和 locals\\na = 1\\nb = 2\\n\\ndef fun(c, d):\\n    e = 111\\n    print(\"locals={0}\".format(locals()))\\n    print(\"globals={0}\".format(globals()))\\n    \\nfun(100, 200)', '_ii': '# globals 和 locals\\na = 1\\nb = 2\\n\\ndef fun(c,d):\\n    e = 111\\n    print(\"locals={0}\".format(locals))\\n    print(\"globals={0}\".format(globals()))\\n    \\nfun(100,200)', '_iii': '# 作用域的例子\\nb1 = 100# 全部变量\\n\\ndef fun():\\n    print(b1)\\n    print(\"I in fun\")\\n    global b2 \\n    b2 = 99\\n    print(b2)\\nfun()\\nprint(\"*\" * 20)\\nprint(a1)\\nprint(a2)', '_i1': 'a1 = 100\\n\\ndef fun():\\n    print(a1)\\n    print(\"I in fun\")\\n    a2 = 99\\n    print(a2)\\n    \\nprint(a1)', 'a1': 100, 'fun': <function fun at 0x000001B28FAA2B70>, '_i2': 'a1 = 100\\n\\ndef fun():\\n    print(a1)\\n    print(\"I in fun\")\\n    a2 = 99\\n    print(a2)\\n    \\nprint(a1)\\nprint(a2)', '_i3': '# 作用域的例子\\na1 = 100# 全部变量\\n\\ndef fun():\\n    print(a1)\\n    print(\"I in fun\")\\n    a2 = 99# 局部变量\\n    print(a2)\\n    \\nprint(a1)\\nprint(a2)', '_i4': '# 作用域的例子\\na1 = 100# 全部变量\\n\\ndef fun():\\n    print(a1)\\n    print(\"I in fun\")\\n    a2 = 99# 局部变量\\n    print(a2)\\nfun()    \\nprint(a1)\\nprint(a2)', '_i5': '# 作用域的例子\\na1 = 100# 全部变量\\n\\ndef fun():\\n    print(a1)\\n    print(\"I in fun\")\\n    a2 = 99# 局部变量,作用范围是fun\\n    print(a2)\\nfun()\\nprint(\"*\" * 20)\\nprint(a1)\\nprint(a2)# 会报错', '_i6': '# 作用域的例子\\na1 = 100# 全部变量\\n\\ndef fun():\\n    print(a1)\\n    print(\"I in fun\")\\n    a2 = 99# 局部变量,作用范围是fun\\n    print(a2)\\nfun()\\nprint(\"*\" * 20)\\nprint(a1)\\nprint(a2)# 会报错', '_i7': '# 作用域的例子\\nb1 = 100# 全部变量\\n\\ndef fun():\\n    print(b1)\\n    print(\"I in fun\")\\n    global b2 = 99# 局部变量,作用范围是fun\\n    print(b2)\\nfun()\\nprint(\"*\" * 20)\\nprint(a1)\\nprint(a2)# 会报错', '_i8': '# 作用域的例子\\nb1 = 100# 全部变量\\n\\ndef fun():\\n    print(b1)\\n    print(\"I in fun\")\\n    global b2 \\n    b2 = 99 # 局部变量,作用范围是fun\\n    print(b2)\\nfun()\\nprint(\"*\" * 20)\\nprint(a1)\\nprint(a2)# 会报错', 'b1': 100, 'b2': 99, '_i9': '# 作用域的例子\\nb1 = 100# 全部变量\\n\\ndef fun():\\n    print(b1)\\n    print(\"I in fun\")\\n    global b2 \\n    b2 = 99\\n    print(b2)\\nfun()\\nprint(\"*\" * 20)\\nprint(a1)\\nprint(a2)', '_i10': '# 作用域的例子\\nb1 = 100# 全部变量\\n\\ndef fun():\\n    print(b1)\\n    print(\"I in fun\")\\n    global b2 \\n    b2 = 99\\n    print(b2)\\nfun()\\nprint(\"*\" * 20)\\nprint(a1)\\nprint(a2)', '_i11': '# 作用域的例子\\nb1 = 100# 全部变量\\n\\ndef fun():\\n    print(b1)\\n    print(\"I in fun\")\\n    global b2 \\n    b2 = 99\\n    print(b2)\\nfun()\\nprint(\"*\" * 20)\\nprint(a1)\\nprint(a2)', '_i12': '# 作用域的例子\\nb1 = 100# 全部变量\\n\\ndef fun():\\n    print(b1)\\n    print(\"I in fun\")\\n    global b2 \\n    b2 = 99\\n    print(b2)\\nfun()\\nprint(\"*\" * 20)\\nprint(a1)\\nprint(a2)', '_i13': '# 作用域的例子\\nb1 = 100# 全部变量\\n\\ndef fun():\\n    print(b1)\\n    print(\"I in fun\")\\n    global b2 \\n    b2 = 99\\n    print(b2)\\nfun()\\nprint(\"*\" * 20)\\nprint(a1)\\nprint(a2)', '_i14': '# 作用域的例子\\nb1 = 100# 全部变量\\n\\ndef fun():\\n    print(b1)\\n    print(\"I in fun\")\\n    global b2 \\n    b2 = 99\\n    print(b2)\\nfun()\\nprint(\"*\" * 20)\\nprint(a1)\\nprint(a2)', '_i15': '# 作用域的例子\\nb1 = 100# 全部变量\\n\\ndef fun():\\n    print(b1)\\n    print(\"I in fun\")\\n    global b2 \\n    b2 = 99\\n    print(b2)\\nfun()\\nprint(\"*\" * 20)\\nprint(a1)\\nprint(a2)', '_i16': '# globals 和 locals\\na = 1\\nb = 2\\n\\ndef fun(c,d):\\n    e = 111\\n    print(\"locals={0}\".format(locals))\\n    print(\"globals={0}\".format(globals()))\\n    \\nfun(100,200)', 'a': 1, 'b': 2, '_i17': '# globals 和 locals\\na = 1\\nb = 2\\n\\ndef fun(c, d):\\n    e = 111\\n    print(\"locals={0}\".format(locals()))\\n    print(\"globals={0}\".format(globals()))\\n    \\nfun(100, 200)', '_i18': '# globals 和 locals\\n# globals 和 locals就是内建函数\\na = 1\\nb = 2\\n\\ndef fun(c, d):\\n    e = 111\\n    print(\"locals={0}\".format(locals()))\\n    print(\"globals={0}\".format(globals()))\\n    \\nfun(100, 200)'}\n"
     ]
    }
   ],
   "source": [
    "# globals 和 locals\n",
    "# globals 和 locals就是内建函数\n",
    "a = 1\n",
    "b = 2\n",
    "\n",
    "def fun(c, d):\n",
    "    e = 111\n",
    "    print(\"locals={0}\".format(locals()))\n",
    "    print(\"globals={0}\".format(globals()))\n",
    "    \n",
    "fun(100, 200)"
   ]
  },
  {
   "cell_type": "markdown",
   "metadata": {},
   "source": [
    "# eval()函数\n",
    "- 把一个字符串当成一个表达式执行,返回表达式执行后的结果\n",
    "- 语法\n",
    "             \n",
    "             eval(string_code, globals=none, locals=none)\n",
    "# exec()函数\n",
    "- 跟eval功能类似,但是,不返回结果\n",
    "- 语法\n",
    "            \n",
    "            exec(string_code, globals=none, locals=none)"
   ]
  },
  {
   "cell_type": "code",
   "execution_count": 22,
   "metadata": {},
   "outputs": [
    {
     "name": "stdout",
     "output_type": "stream",
     "text": [
      "300\n",
      "300\n"
     ]
    }
   ],
   "source": [
    "# 案例\n",
    "x = 100\n",
    "y = 200\n",
    "# 执行X+Y\n",
    "# z = x + y\n",
    "z = eval(\"x+y\")\n",
    "z1 = x + y\n",
    "print(z)\n",
    "print(z1)\n"
   ]
  },
  {
   "cell_type": "code",
   "execution_count": 28,
   "metadata": {},
   "outputs": [
    {
     "name": "stdout",
     "output_type": "stream",
     "text": [
      "x+y: 300\n",
      "None\n",
      "300\n",
      "None\n"
     ]
    }
   ],
   "source": [
    "# exec案例\n",
    "x = 100\n",
    "y = 200\n",
    "# 执行X+Y\n",
    "# z = x + y\n",
    "z = exec(\"x+y\")# 不返回结果\n",
    "z2 = exec(\"print('x+y:',x+y)\") # 不返回结果但是代码执行了\n",
    "z1 = x + y\n",
    "print(z)\n",
    "print(z1)\n",
    "print(z2)"
   ]
  },
  {
   "cell_type": "markdown",
   "metadata": {},
   "source": [
    "# 递归函数\n",
    "- 函数直接或者间接调用自身\n",
    "- 优点:简洁,理解容易\n",
    "- 缺点:对递归深度有限制,消耗资源大\n",
    "- Python对递归深度有限制,吵过后会有错误提示\n",
    "- 在写递归程序的时候,一定注意结束条件\n",
    "    - 斐波那契数列\n",
    "    - 汉诺塔问题"
   ]
  },
  {
   "cell_type": "code",
   "execution_count": 3,
   "metadata": {},
   "outputs": [],
   "source": [
    "# 递归调用深度限制代码\n",
    "x = 0\n",
    "def fun():\n",
    "    global x\n",
    "    x += 1\n",
    "    print(x)\n",
    "    fun()\n",
    "\n",
    "# 调用函数\n",
    "# fun()"
   ]
  },
  {
   "cell_type": "code",
   "execution_count": 1,
   "metadata": {},
   "outputs": [
    {
     "name": "stdout",
     "output_type": "stream",
     "text": [
      "2\n"
     ]
    }
   ],
   "source": [
    "# 斐波那契数列\n",
    "# 一列数字,第一个值是1,第二个也是1,从第三个开始,每一个数字,相当于前两个数字出现值的和\n",
    "# 数学公式为:f(1)=1,f(2)=1,f(n)=f(n-1) + f(n-2)\n",
    "# 例如:1,1,2,3,5,8,13,...\n",
    "\n",
    "\n",
    "# 下面的有问题,比如n一开始是负数,如何修正\n",
    "# n表示第n个数字的斐波那契数列的值\n",
    "def fib(n):\n",
    "    if n == 1:\n",
    "        return 1\n",
    "    if n == 2:\n",
    "        return 1\n",
    "    # 思考:为什么后面return能够正确执行,而不用else语句\n",
    "    return fib(n-1) + fib(n-2)\n",
    "\n",
    "fib(3)\n",
    "print(fib(3))"
   ]
  },
  {
   "cell_type": "markdown",
   "metadata": {},
   "source": [
    "# 汉诺塔\n",
    "- 规则:\n",
    "    - 1.每次一定一个盘子.\n",
    "    - 2.任何时候大盘子在下面,小盘子在上面\n",
    "- 方法:\n",
    "     1. n=1： 直接把A上的一个盘子移动到C上， A->C\n",
    "    2. n=2: \n",
    "        1. 把小盘子从A放到B上， A->B\n",
    "        2. 把大盘子从A放到C上， A->C\n",
    "        3. 把小盘子从B放到C上， B->C\n",
    "    3. n=3: \n",
    "        1. 把A上的两个盘子，通过C移动到B上去， 调用递归实现\n",
    "        2. 把A上剩下的一个最大盘子移动到C上， A->C\n",
    "        3. 把B上两个盘子，借助于A，挪到C上去， 调用递归\n",
    "    4. n = n：\n",
    "        1. 把A上的n-1个盘子，借助于C，移动到B上去，调用递归\n",
    "        2. 把A上的最大盘子，也是唯一一个，移动到C上，A->C\n",
    "        3. 把B上n-1个盘子，借助于A，移动到C上， 调用递归"
   ]
  },
  {
   "cell_type": "code",
   "execution_count": 5,
   "metadata": {},
   "outputs": [
    {
     "name": "stdout",
     "output_type": "stream",
     "text": [
      "A -> B\n",
      "A -> C\n",
      "B -> C\n"
     ]
    }
   ],
   "source": [
    "def hano(n,a,b,c):\n",
    "    '''\n",
    "    汉诺塔的递归实现\n",
    "    n:代表第几个塔\n",
    "    a:代表第一个塔\n",
    "    b:代表第二个塔\n",
    "    c:代表第三个塔\n",
    "    '''\n",
    "    if n == 1:\n",
    "        print(a, \"->\", c)\n",
    "        return None\n",
    "    if n == 2:\n",
    "        print(a, \"->\", b)\n",
    "        print(a, \"->\", c)\n",
    "        print(b, \"->\", c)\n",
    "        return None\n",
    "    # 把n-1个盘子,从a塔借助c塔,挪到b塔\n",
    "    hano(n-1, a, c, b)\n",
    "    # 把n-1个盘子,从b塔借助a塔,挪到c塔\n",
    "    hano(n-1, b, a, c)\n",
    "    \n",
    "a = \"A\"\n",
    "b = \"B\"\n",
    "c = \"C\"\n",
    "\n",
    "n = 2\n",
    "hano(n, a, b, c)"
   ]
  }
 ],
 "metadata": {
  "kernelspec": {
   "display_name": "Python 3",
   "language": "python",
   "name": "python3"
  },
  "language_info": {
   "codemirror_mode": {
    "name": "ipython",
    "version": 3
   },
   "file_extension": ".py",
   "mimetype": "text/x-python",
   "name": "python",
   "nbconvert_exporter": "python",
   "pygments_lexer": "ipython3",
   "version": "3.7.0"
  }
 },
 "nbformat": 4,
 "nbformat_minor": 2
}
