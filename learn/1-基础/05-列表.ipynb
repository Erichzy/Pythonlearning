{
 "cells": [
  {
   "cell_type": "markdown",
   "metadata": {},
   "source": [
    "# 内置数据结构\n",
    "\n",
    "- list\n",
    "- set\n",
    "- dict\n",
    "- tuple\n",
    "\n",
    "## list(列表)\n",
    "- 一组有顺序的结构的组合\n",
    "- 创建列表\n",
    "    - 空列表"
   ]
  },
  {
   "cell_type": "code",
   "execution_count": 7,
   "metadata": {},
   "outputs": [
    {
     "name": "stdout",
     "output_type": "stream",
     "text": [
      "<class 'list'>\n",
      "[]\n",
      "<class 'list'>\n",
      "[100]\n",
      "<class 'list'>\n",
      "[100, 2, 3, 5, 8, 8, 6, 4]\n",
      "<class 'list'>\n",
      "[]\n"
     ]
    }
   ],
   "source": [
    "# 创建空列表\n",
    "l1 = []\n",
    "print(type(l1))\n",
    "print(l1 )\n",
    "# 创建带值的列表\n",
    "l2 = [100]\n",
    "print(type(l2))\n",
    "print(l2 )\n",
    "# 创建列表,带多个值\n",
    "l3= [100,2,3,5,8,8,6,4]\n",
    "print(type(l3))\n",
    "print(l3 )\n",
    "# 使用list\n",
    "l4= list()\n",
    "print(type(l3))\n",
    "print(l4 )"
   ]
  },
  {
   "cell_type": "markdown",
   "metadata": {},
   "source": [
    "## 列表的操作\n",
    "- 访问\n",
    "    - 使用下标操作(索引)\n",
    "    - 列表的位置是从0开始的\n",
    "- 分片操作\n",
    "    - 对列表进行任意一段的截取\n",
    "    - L[:]\n",
    "- 删除:del:删除\n",
    "            del L[2]"
   ]
  },
  {
   "cell_type": "code",
   "execution_count": 10,
   "metadata": {},
   "outputs": [
    {
     "name": "stdout",
     "output_type": "stream",
     "text": [
      "3\n",
      "5\n"
     ]
    }
   ],
   "source": [
    "# 下标访问列表\n",
    "l = [5,7,3,2]\n",
    "print(l[2])\n",
    "print(l[0])"
   ]
  },
  {
   "cell_type": "code",
   "execution_count": 24,
   "metadata": {},
   "outputs": [
    {
     "name": "stdout",
     "output_type": "stream",
     "text": [
      "3\n",
      "5\n",
      "[7, 3, 2]\n",
      "[5, 7, 3, 2]\n",
      "[8, 4, 6, 2, 8, 5]\n",
      "[5, 7, 3, 2, 8, 4, 6, 2, 8, 5]\n",
      "[7, 3, 2, 8, 4]\n",
      "[7, 2, 4]\n",
      "[8, 4, 6, 2, 8, 5]\n",
      "[]\n",
      "[2]\n",
      "[3, 2]\n",
      "[5, 7, 3, 2]\n",
      "[]\n"
     ]
    }
   ],
   "source": [
    "# 分片访问列表\n",
    "L= [5,7,3,2,8,4,6,2,8,5]\n",
    "print(L[2])\n",
    "print(L[0])\n",
    "print(L[1:4])# 表示范围的时候,包含左边不包含右边(左闭右开)\n",
    "\n",
    "# 下标值可以为空,左边下标默认值为0,右边为最大数+1,即截取最左或最右边的值\n",
    "print(L[:4])\n",
    "print(L[4:])\n",
    "print(L[:])\n",
    "\n",
    "# 分片可以控制增长幅度,默认增长幅度为1\n",
    "print(L[1:6:])# 第二个冒号后面不写为默认值1\n",
    "print(L[1:6:2])\n",
    "\n"
   ]
  },
  {
   "cell_type": "code",
   "execution_count": null,
   "metadata": {},
   "outputs": [],
   "source": [
    "# 下标可以超出一定的范围,超出后不再考虑多余的下标内容\n",
    "print(L[:])\n",
    "# 下标为负数的时候,表明从右往左.规定:数组最后一个数字的下标是-1\n",
    "# 默认分片从左边向右截取\n",
    "print(L[-2:-4])\n",
    "print(L[-2:4])\n",
    "print(L[-7:4])\n",
    "print(L[-8:4])\n",
    "print(L[-20:4])\n",
    "# 如果要从右往左截,则步长改为负数,会从右往左截取\n",
    "print(\"*\" * 20)\n",
    "print(L[-2:-4:-1])\n",
    "print(L[-2:4-1:-1])\n",
    "print(L[-7:4:-1])\n",
    "print(L[-8:4:-1])\n",
    "print(L[-20:4:-1])"
   ]
  },
  {
   "cell_type": "markdown",
   "metadata": {},
   "source": [
    "## 分片操作是生成新的list\n",
    "- 内置函数ID\n",
    "- 负责显示一个变量或者数据的唯一编号\n"
   ]
  },
  {
   "cell_type": "code",
   "execution_count": 58,
   "metadata": {},
   "outputs": [
    {
     "name": "stdout",
     "output_type": "stream",
     "text": [
      "140709320194912\n",
      "140709320198112\n",
      "140709320194912\n",
      "...........\n",
      "140709320194944\n",
      "140709320198112\n",
      "140709320194912\n",
      "101\n",
      "100\n"
     ]
    }
   ],
   "source": [
    "# ID函数举例\n",
    "a = 100\n",
    "b = 200\n",
    "print(id(a))\n",
    "print(id(b))\n",
    "\n",
    "c = a\n",
    "print(id(c))\n",
    "print(\"...........\")\n",
    "# 如果a跟c指向一份数据,则更改a的值同样也会更改c的值\n",
    "# 但是,显示结果并非如此\n",
    "a = 101\n",
    "print(id(a))\n",
    "print(id(b))\n",
    "print(id(c))\n",
    "print(a)\n",
    "print(c)"
   ]
  },
  {
   "cell_type": "code",
   "execution_count": 1,
   "metadata": {},
   "outputs": [
    {
     "name": "stdout",
     "output_type": "stream",
     "text": [
      "2496668759880\n",
      "2496668761992\n",
      "2496668759880\n",
      "[4, 7, 8, 9, 2, 5, 2]\n",
      "[4, 7, 8, 9, 2, 5, 2]\n",
      "[4, 7, 8, 9, 2, 5, 2]\n",
      "..............\n",
      "[100, 7, 8, 9, 2, 5, 2]\n",
      "[4, 7, 8, 9, 2, 5, 2]\n",
      "[100, 7, 8, 9, 2, 5, 2]\n"
     ]
    }
   ],
   "source": [
    "# 通过ID可以直接判断出分片是新生成了数据还是使用同一份数据\n",
    "L =[4,7,8,9,2,5,2] \n",
    "L1 = L[:]\n",
    "L2 = L\n",
    "print(id(L))\n",
    "print(id(L1))\n",
    "print(id(L2))\n",
    "# 若果id值一样,表明生成了同一份地址,同一份数据\n",
    "# 否则,则表明分片是重新生成了新的数据\n",
    "print(L)\n",
    "print(L1)\n",
    "print(L2)\n",
    "print(\"..............\")\n",
    "# 通过ID知道,L和L2是同一份数据,验证代码如下\n",
    "L[0] = 100\n",
    "print(L)\n",
    "print(L1)\n",
    "print(L2)"
   ]
  },
  {
   "cell_type": "code",
   "execution_count": 3,
   "metadata": {},
   "outputs": [
    {
     "name": "stdout",
     "output_type": "stream",
     "text": [
      "2496677991304\n",
      "2496677991304\n",
      "[1, 2, 4, 5, 6]\n"
     ]
    }
   ],
   "source": [
    "# del 删除\n",
    "# 如果使用del之后,id相同,说明直接删除了,如果不同,说明重新生成了list\n",
    "a = [1,2,3,4,5,6]\n",
    "print(id(a))\n",
    "del a[2]\n",
    "print(id(a))\n",
    "print(a)"
   ]
  },
  {
   "cell_type": "code",
   "execution_count": 5,
   "metadata": {},
   "outputs": [
    {
     "ename": "NameError",
     "evalue": "name 'a' is not defined",
     "output_type": "error",
     "traceback": [
      "\u001b[1;31m---------------------------------------------------------------------------\u001b[0m",
      "\u001b[1;31mNameError\u001b[0m                                 Traceback (most recent call last)",
      "\u001b[1;32m<ipython-input-5-bfd786f16bb2>\u001b[0m in \u001b[0;36m<module>\u001b[1;34m()\u001b[0m\n\u001b[0;32m      1\u001b[0m \u001b[1;31m# del一个变量后,不能再继续使用此变量了\u001b[0m\u001b[1;33m\u001b[0m\u001b[1;33m\u001b[0m\u001b[0m\n\u001b[1;32m----> 2\u001b[1;33m \u001b[1;32mdel\u001b[0m \u001b[0ma\u001b[0m\u001b[1;33m\u001b[0m\u001b[0m\n\u001b[0m\u001b[0;32m      3\u001b[0m \u001b[0mprint\u001b[0m\u001b[1;33m(\u001b[0m\u001b[0ma\u001b[0m\u001b[1;33m)\u001b[0m\u001b[1;33m\u001b[0m\u001b[0m\n",
      "\u001b[1;31mNameError\u001b[0m: name 'a' is not defined"
     ]
    }
   ],
   "source": [
    "# del一个变量后,不能再继续使用此变量了\n",
    "del a\n",
    "print(a)"
   ]
  },
  {
   "cell_type": "markdown",
   "metadata": {},
   "source": [
    "### 列表相加\n",
    "- 使用加好链接两个列表\n"
   ]
  },
  {
   "cell_type": "code",
   "execution_count": 8,
   "metadata": {},
   "outputs": [
    {
     "name": "stdout",
     "output_type": "stream",
     "text": [
      "[1, 2, 3, 4, 5, 6, 7, 8, 9, 0, 'a', 'b', 'c']\n"
     ]
    }
   ],
   "source": [
    "a = [1,2,3,4,5]\n",
    "b = [6,7,8,9,0]\n",
    "c = [\"a\",\"b\",\"c\"]\n",
    "d = a + b + c\n",
    "print(d)"
   ]
  },
  {
   "cell_type": "code",
   "execution_count": 10,
   "metadata": {},
   "outputs": [
    {
     "name": "stdout",
     "output_type": "stream",
     "text": [
      "[1, 2, 3, 4, 5, 1, 2, 3, 4, 5, 1, 2, 3, 4, 5, 1, 2, 3, 4, 5, 1, 2, 3, 4, 5, 1, 2, 3, 4, 5, 1, 2, 3, 4, 5, 1, 2, 3, 4, 5, 1, 2, 3, 4, 5, 1, 2, 3, 4, 5]\n"
     ]
    }
   ],
   "source": [
    "# 使用乘号操作列表\n",
    "# 列表直接跟一个整数相乘\n",
    "# 相当于把n个列表接在一起\n",
    "a = [1,2,3,4,5]\n",
    "b = a * 10\n",
    "print(b)"
   ]
  },
  {
   "cell_type": "code",
   "execution_count": 15,
   "metadata": {},
   "outputs": [
    {
     "name": "stdout",
     "output_type": "stream",
     "text": [
      "True\n",
      "False\n"
     ]
    }
   ],
   "source": [
    "# 成员资格运算\n",
    "# 就是判断一个元素是否在list里面\n",
    "a = [1,2,3,4,5,6]\n",
    "b = 2\n",
    "\n",
    "# c的值是布尔值\n",
    "c = b in a \n",
    "print(c)\n",
    "\n",
    "d = 8\n",
    "f = d in a \n",
    "print(f)"
   ]
  },
  {
   "cell_type": "code",
   "execution_count": 18,
   "metadata": {},
   "outputs": [
    {
     "name": "stdout",
     "output_type": "stream",
     "text": [
      "True\n"
     ]
    }
   ],
   "source": [
    "# not in\n",
    "a = [1,2,3,4,5,6]\n",
    "b = 8\n",
    "\n",
    "# c的值是布尔值\n",
    "c = b not in a \n",
    "print(c)"
   ]
  },
  {
   "cell_type": "markdown",
   "metadata": {},
   "source": [
    "# 链表的遍历\n",
    "- for\n",
    "- while"
   ]
  },
  {
   "cell_type": "code",
   "execution_count": 20,
   "metadata": {},
   "outputs": [
    {
     "name": "stdout",
     "output_type": "stream",
     "text": [
      "1\n",
      "2\n",
      "3\n",
      "4\n",
      "5\n"
     ]
    }
   ],
   "source": [
    "# for in list\n",
    "a = [1,2,3,4,5]\n",
    "\n",
    "# 按个打印a里面的元素\n",
    "for i in a:\n",
    "    print(i)"
   ]
  },
  {
   "cell_type": "code",
   "execution_count": 22,
   "metadata": {},
   "outputs": [
    {
     "name": "stdout",
     "output_type": "stream",
     "text": [
      "I love IT\n"
     ]
    }
   ],
   "source": [
    "b = [\"I love IT\"]\n",
    "for i in b:\n",
    "    print(i)"
   ]
  },
  {
   "cell_type": "code",
   "execution_count": 24,
   "metadata": {},
   "outputs": [
    {
     "name": "stdout",
     "output_type": "stream",
     "text": [
      "1\n",
      "2\n",
      "<class 'range'>\n"
     ]
    }
   ],
   "source": [
    "# range\n",
    "# in 后面的变量要求是可迭代的\n",
    "for i in range(1,3):\n",
    "    print(i)\n",
    "print(type(range(1,3)))"
   ]
  },
  {
   "cell_type": "code",
   "execution_count": 29,
   "metadata": {},
   "outputs": [
    {
     "name": "stdout",
     "output_type": "stream",
     "text": [
      "1\n",
      "2\n",
      "3\n",
      "4\n",
      "5\n",
      "6\n"
     ]
    }
   ],
   "source": [
    "# while循环访问list\n",
    "# 一般不用while遍历list\n",
    "\n",
    "a = [1,2,3,4,5,6]\n",
    "length = len(a)\n",
    "# indx表示的是list的下标\n",
    "indx = 0\n",
    "while indx < length:\n",
    "    print(a[indx])\n",
    "    indx += 1\n"
   ]
  },
  {
   "cell_type": "code",
   "execution_count": 31,
   "metadata": {},
   "outputs": [
    {
     "name": "stdout",
     "output_type": "stream",
     "text": [
      "one --- 1\n",
      "two --- 2\n",
      "three --- 3\n"
     ]
    }
   ],
   "source": [
    "# 双层列表循环\n",
    "\n",
    "# a 为嵌套列表,或者叫双层列表\n",
    "a = [[\"one\",1],[\"two\",2],[\"three\",3]]\n",
    "\n",
    "for k,v in a:\n",
    "    print(k,\"---\",v)"
   ]
  },
  {
   "cell_type": "code",
   "execution_count": 35,
   "metadata": {},
   "outputs": [
    {
     "name": "stdout",
     "output_type": "stream",
     "text": [
      "one --- 1 --- lalal\n",
      "two --- 2 --- papa\n",
      "three --- 3 --- 5\n"
     ]
    }
   ],
   "source": [
    "# 双层列表循环变异\n",
    "\n",
    "\n",
    "a = [[\"one\",1,\"lalal\"],[\"two\",2,\"papa\"],[\"three\",3,5]]\n",
    "# 这个例子说明,K,V的个数应该跟解包出来的变量个数是一致的\n",
    "for k,v,w in a:\n",
    "    print(k,\"---\",v,\"---\",w)"
   ]
  },
  {
   "cell_type": "markdown",
   "metadata": {},
   "source": [
    "# 列表内涵: list content\n",
    "- 通过简单的方法创作列表\n"
   ]
  },
  {
   "cell_type": "code",
   "execution_count": 37,
   "metadata": {},
   "outputs": [
    {
     "name": "stdout",
     "output_type": "stream",
     "text": [
      "['a', 'b', 'c']\n"
     ]
    }
   ],
   "source": [
    "# for 创建\n",
    "a = ['a','b','c']\n",
    "# 用list a创建一个list b\n",
    "# 下面代码的含义是,对于所有a中的元素,逐个放入新列表b中\n",
    "b = [i for i in a]\n",
    "print(b)"
   ]
  },
  {
   "cell_type": "code",
   "execution_count": 39,
   "metadata": {},
   "outputs": [
    {
     "name": "stdout",
     "output_type": "stream",
     "text": [
      "[10, 20, 30]\n"
     ]
    }
   ],
   "source": [
    "# 对a中的元素乘以10,生成一个新的列表\n",
    "a = [1,2,3]\n",
    "# 用list a创建一个list b\n",
    "# 下面代码的含义是,对于所有a中的元素乘以10,逐个放入新列表b中\n",
    "b = [i*10 for i in a]\n",
    "print(b)"
   ]
  },
  {
   "cell_type": "code",
   "execution_count": 42,
   "metadata": {},
   "outputs": [
    {
     "name": "stdout",
     "output_type": "stream",
     "text": [
      "[2, 4, 6, 8, 10, 12, 14, 16, 18, 20, 22, 24, 26, 28, 30, 32, 34]\n"
     ]
    }
   ],
   "source": [
    "# 还可以过滤原有列表,生成一个新的列表\n",
    "a = [x for x in range(1,35)]\n",
    "# 用list a创建一个list b\n",
    "# 下面代码的含义是,对于所有a中的偶数,逐个放入新列表b中\n",
    "b = [m for m in a if m % 2 == 0]\n",
    "print(b)"
   ]
  },
  {
   "cell_type": "code",
   "execution_count": 50,
   "metadata": {},
   "outputs": [
    {
     "name": "stdout",
     "output_type": "stream",
     "text": [
      "[1, 2, 3]\n",
      "[100, 200, 300]\n",
      "[101, 201, 301, 102, 202, 302, 103, 203, 303]\n",
      "101  201  301  102  202  302  103  203  303  \n",
      "[101, 102, 103]\n"
     ]
    }
   ],
   "source": [
    "# 列表生成时可以嵌套\n",
    "# 由两个列表a,b\n",
    "a = [i for i in range(1,4)]# 生成list a\n",
    "print(a)\n",
    "\n",
    "b = [i for i in range(100,400) if i % 100 ==0]\n",
    "print(b)\n",
    "\n",
    "# 列表生成时可以嵌套的\n",
    "c = [m + n for m in a for n in b]\n",
    "print(c)\n",
    "\n",
    "for m in a:\n",
    "    for n in b:\n",
    "        print(m+n,end = \"  \")\n",
    "print()\n",
    "\n",
    "# 列表生成时可以嵌套的\n",
    "d = [m + n for m in a for n in b if m+n < 200]\n",
    "print(d)"
   ]
  },
  {
   "cell_type": "markdown",
   "metadata": {},
   "source": [
    "# 关于列表的常用函数"
   ]
  },
  {
   "cell_type": "code",
   "execution_count": 55,
   "metadata": {},
   "outputs": [
    {
     "name": "stdout",
     "output_type": "stream",
     "text": [
      "33\n",
      "99\n",
      "python\n"
     ]
    }
   ],
   "source": [
    "# len():丘列表的长度\n",
    "a = [x for x in range(1,100) if x % 3 == 0]\n",
    "print(len(a))\n",
    "# max():求列表中的最大值\n",
    "print(max(a))\n",
    "\n",
    "b = [\"man\",\"film\",\"python\"]\n",
    "print(max(b))"
   ]
  },
  {
   "cell_type": "code",
   "execution_count": 59,
   "metadata": {},
   "outputs": [
    {
     "name": "stdout",
     "output_type": "stream",
     "text": [
      "[1, 2, 3]\n",
      "['什', '么', '是', '傻', '逼', ',', 'I', 't', ' ', 'i', 's', ' ', 'y', 'o', 'u']\n"
     ]
    }
   ],
   "source": [
    "# list:将其他格式的数据格式转换成list\n",
    "a = [1,2,3]\n",
    "print(list(a))\n",
    "\n",
    "s = \"什么是傻逼,It is you\"\n",
    "print(list(s))"
   ]
  },
  {
   "cell_type": "code",
   "execution_count": 61,
   "metadata": {},
   "outputs": [
    {
     "name": "stdout",
     "output_type": "stream",
     "text": [
      "[12, 13, 14, 15, 16, 17, 18]\n"
     ]
    }
   ],
   "source": [
    "# 把range产生的内容直接转换成list\n",
    "print(list(range(12,19)))"
   ]
  },
  {
   "cell_type": "markdown",
   "metadata": {},
   "source": [
    "# 关于列表的函数\n"
   ]
  },
  {
   "cell_type": "code",
   "execution_count": 63,
   "metadata": {},
   "outputs": [
    {
     "data": {
      "text/plain": [
       "[121, '哦哦啊发', '777']"
      ]
     },
     "execution_count": 63,
     "metadata": {},
     "output_type": "execute_result"
    }
   ],
   "source": [
    "L = [121,\"哦哦啊发\",\"777\"]\n",
    "L"
   ]
  },
  {
   "cell_type": "code",
   "execution_count": 65,
   "metadata": {},
   "outputs": [
    {
     "name": "stdout",
     "output_type": "stream",
     "text": [
      "[1, 2, 3, 4]\n",
      "[1, 2, 3, 4, 100]\n"
     ]
    }
   ],
   "source": [
    "# append 插入一个内容,在末尾追加\n",
    "a = [i for i in range(1,5)]\n",
    "print(a)\n",
    "a.append(100)\n",
    "print(a)"
   ]
  },
  {
   "cell_type": "code",
   "execution_count": 2,
   "metadata": {},
   "outputs": [
    {
     "name": "stdout",
     "output_type": "stream",
     "text": [
      "[1, 2, 3, 4]\n",
      "[1, 2, 3, 100, 4]\n"
     ]
    }
   ],
   "source": [
    "# insert 插入一个内容,在末尾追加\n",
    "# insert (index,data)\n",
    "a = [i for i in range(1,5)]\n",
    "print(a)\n",
    "a.insert(3,100)\n",
    "print(a)"
   ]
  },
  {
   "cell_type": "code",
   "execution_count": 3,
   "metadata": {},
   "outputs": [
    {
     "name": "stdout",
     "output_type": "stream",
     "text": [
      "[1, 2, 3, 100, 4]\n",
      "4\n",
      "[1, 2, 3, 100]\n"
     ]
    }
   ],
   "source": [
    "# 删除\n",
    "# del 删除\n",
    "# pop, 从对位拿出一个元素,即把最后一个元素取出来\n",
    "print(a)\n",
    "last_ele = a.pop()\n",
    "print(last_ele)\n",
    "print(a)"
   ]
  },
  {
   "cell_type": "code",
   "execution_count": 4,
   "metadata": {},
   "outputs": [
    {
     "name": "stdout",
     "output_type": "stream",
     "text": [
      "[1, 2, 3, 100]\n",
      "1998442500872\n",
      "[1, 2, 3]\n",
      "1998442500872\n"
     ]
    }
   ],
   "source": [
    "# remove:在列表中删除指定的值的元素\n",
    "# 如果被删除的值设在list中,则报错\n",
    "# 即,删除list指定值的操作应该使用try......excepty语句,或者先进行判断\n",
    "# if x in list:\n",
    "#    list.remove(x)\n",
    "print(a)\n",
    "print(id(a))\n",
    "a.remove(100)\n",
    "print(a)\n",
    "print(id(a))\n",
    "\n",
    "# 输出两个id值一样,说明,remove操作是在原来的基础上直接操作"
   ]
  },
  {
   "cell_type": "code",
   "execution_count": 8,
   "metadata": {},
   "outputs": [
    {
     "name": "stdout",
     "output_type": "stream",
     "text": [
      "[]\n",
      "1998442500872\n",
      "[]\n",
      "1998442500872\n"
     ]
    }
   ],
   "source": [
    "# clear:清空\n",
    "\n",
    "print(a)\n",
    "print(id(a))\n",
    "a.clear()\n",
    "print(a)\n",
    "print(id(a))"
   ]
  },
  {
   "cell_type": "code",
   "execution_count": 11,
   "metadata": {},
   "outputs": [
    {
     "name": "stdout",
     "output_type": "stream",
     "text": [
      "[1, 2, 3, 4, 5]\n",
      "1998443117128\n",
      "[5, 4, 3, 2, 1]\n",
      "1998443117128\n"
     ]
    }
   ],
   "source": [
    "# reverse :翻转,原地翻转\n",
    "a = [1,2,3,4,5]\n",
    "print(a)\n",
    "print(id(a))\n",
    "\n",
    "a.reverse()\n",
    "print(a)\n",
    "print(id(a))\n"
   ]
  },
  {
   "cell_type": "code",
   "execution_count": 14,
   "metadata": {},
   "outputs": [
    {
     "name": "stdout",
     "output_type": "stream",
     "text": [
      "[1, 2, 3, 4, 5]\n",
      "1998443833096\n",
      "[1, 2, 3, 4, 5, 6, 7, 8, 9, 0]\n",
      "1998443833096\n"
     ]
    }
   ],
   "source": [
    "# extend:扩展列表,把两个列表,直接拼接到后一个上\n",
    "a = [1,2,3,4,5]\n",
    "b = [6,7,8,9,0]\n",
    "print(a)\n",
    "print(id(a))\n",
    "\n",
    "a.extend(b)\n",
    "print(a)\n",
    "print(id(a))"
   ]
  },
  {
   "cell_type": "code",
   "execution_count": 22,
   "metadata": {},
   "outputs": [
    {
     "name": "stdout",
     "output_type": "stream",
     "text": [
      "[1, 2, 4, 4, 4, 3, 4, 5, 6, 7, 8, 9, 0, 4, 4, 4, 4]\n",
      "10\n"
     ]
    }
   ],
   "source": [
    "# count:查找列表中指定值或元素的个数 \n",
    "print(a)\n",
    "a.append(4)\n",
    "a.insert(2,4)\n",
    "a_4 = a.count(4)\n",
    "print(a_4)\n"
   ]
  },
  {
   "cell_type": "code",
   "execution_count": 42,
   "metadata": {},
   "outputs": [
    {
     "name": "stdout",
     "output_type": "stream",
     "text": [
      "1998443292744\n",
      "1998443961416\n",
      "1998443961416\n",
      "[1, 2, 3, 4, 5, 100]\n",
      "[1, 2, 3, 777, 5, 100]\n"
     ]
    }
   ],
   "source": [
    "# copy:拷贝,浅拷贝\n",
    "\n",
    "# 列表类型变量赋值示例\n",
    "a = [1,2,3,4,5,100]\n",
    "print(id(a))\n",
    "# b = a\n",
    "b = a.copy() # 两种操作不一样\n",
    "print(id(b))\n",
    "b[3] = 777\n",
    "print(id(b))\n",
    "print(a)\n",
    "print(b)"
   ]
  },
  {
   "cell_type": "code",
   "execution_count": 44,
   "metadata": {},
   "outputs": [
    {
     "name": "stdout",
     "output_type": "stream",
     "text": [
      "[1, 2, 3, [10, 20, 30]]\n"
     ]
    }
   ],
   "source": [
    "# 深拷贝跟浅拷贝的区别\n",
    "a0 = [10,20,30]\n",
    "a = [1,2,3,[10,20,30]]\n",
    "b = a.copy()\n",
    "print(b)"
   ]
  }
 ],
 "metadata": {
  "kernelspec": {
   "display_name": "Python 3",
   "language": "python",
   "name": "python3"
  },
  "language_info": {
   "codemirror_mode": {
    "name": "ipython",
    "version": 3
   },
   "file_extension": ".py",
   "mimetype": "text/x-python",
   "name": "python",
   "nbconvert_exporter": "python",
   "pygments_lexer": "ipython3",
   "version": "3.7.0"
  }
 },
 "nbformat": 4,
 "nbformat_minor": 2
}
