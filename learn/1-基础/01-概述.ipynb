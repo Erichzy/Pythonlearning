{
 "cells": [
  {
   "cell_type": "code",
   "execution_count": 8,
   "metadata": {
    "scrolled": true
   },
   "outputs": [
    {
     "name": "stdout",
     "output_type": "stream",
     "text": [
      "hello\n"
     ]
    }
   ],
   "source": [
    "# 变量的类型\n",
    "\n",
    "print(\"hello\")\n",
    "    \n",
    "    "
   ]
  },
  {
   "cell_type": "code",
   "execution_count": 9,
   "metadata": {
    "scrolled": true
   },
   "outputs": [
    {
     "name": "stdout",
     "output_type": "stream",
     "text": [
      "我喜欢\n"
     ]
    }
   ],
   "source": [
    "love='我喜欢'\n",
    "print(love)"
   ]
  },
  {
   "cell_type": "code",
   "execution_count": 1,
   "metadata": {},
   "outputs": [
    {
     "name": "stdout",
     "output_type": "stream",
     "text": [
      "Let's go\n",
      "Let's go\n"
     ]
    }
   ],
   "source": [
    "s = \"Let's go\"\n",
    "print(s)\n",
    "\n",
    "ss = 'Let\\'s go'\n",
    "print(ss)"
   ]
  },
  {
   "cell_type": "code",
   "execution_count": 9,
   "metadata": {},
   "outputs": [
    {
     "name": "stdout",
     "output_type": "stream",
     "text": [
      "I am %d years old, I am %s\n",
      "I am 19 years old, I am Eee\n"
     ]
    }
   ],
   "source": [
    "s = \"I am %d years old, I am %s\"\n",
    "print(s)\n",
    "print(s%(19,\"Eee\"))"
   ]
  },
  {
   "cell_type": "code",
   "execution_count": 17,
   "metadata": {},
   "outputs": [],
   "source": [
    "n = \"hzy\"\n",
    "l = 18\n",
    "s = \"I am {} years old, I am {}\".format(n,l)"
   ]
  },
  {
   "cell_type": "code",
   "execution_count": 23,
   "metadata": {},
   "outputs": [
    {
     "name": "stdout",
     "output_type": "stream",
     "text": [
      "I am 18 years old, I am hzy,really hzy\n"
     ]
    }
   ],
   "source": [
    "n = \"hzy\"\n",
    "l = 18\n",
    "s = \"I am {0} years old, I am {1},really {1}\".format(l,n)\n",
    "print(s)"
   ]
  },
  {
   "cell_type": "code",
   "execution_count": 32,
   "metadata": {
    "scrolled": true
   },
   "outputs": [
    {
     "name": "stdout",
     "output_type": "stream",
     "text": [
      "2.25\n",
      "2\n",
      "1\n",
      "4\n"
     ]
    }
   ],
   "source": [
    "s = 9/4\n",
    "print(s)\n",
    "\n",
    "s = 9//4#取商\n",
    "print(s)\n",
    "\n",
    "s = 9%4#取余\n",
    "print(s)\n",
    "\n",
    "s =2**2\n",
    "print(s)"
   ]
  },
  {
   "cell_type": "markdown",
   "metadata": {},
   "source": [
    "## 运算符\n",
    "   - 算数运算符\n",
    "    - 加减乘除，//取商，%取余，**幂运算\n",
    "   - 逻辑运算符\n",
    "    - 对布尔值进行计算。\n",
    "    - and，or，not\n",
    "    - Python中没有异或运算\n",
    "    - 运算规则\n",
    "      - and看做乘法，or看做加法\n",
    "      - true看做1，false看做0\n",
    "      - 则逻辑运算可以看做数学整数运算，结果为0则为false，否则结果为true\n",
    "    - 逻辑运算的短路问题\n",
    "      - 逻辑运算式，按照运算顺序计算，一旦能够确定整个值，则不再进行计算，直接返回。\n",
    "   - 比较运算符\n",
    "    - 对两个变量比较或者赋值，结果是布尔值（true ，false）\n",
    "    - 等于==,不等于!=,大于>,小于<等等\n",
    "   - 赋值运算符“=”\n",
    "    - =\n",
    "    - +=是缩写，a += 7  是指a = a+7\n",
    "    - -=，*=，/=等等\n",
    "   - 位运算符\n",
    "   - 成员运算符\n",
    "    - 用来检测一个变量是否是另一个变量的成员\n",
    "    - in， not in\n",
    "   - 身份运算符\n",
    "    - is:用来检测两个变量是否是同一个变量,is not：两个变量不是同一个变量\n",
    "    - var1 is var2\n",
    "## 运算符的优先级问题\n",
    "   - 括号具有最高优先级\n",
    "   "
   ]
  },
  {
   "cell_type": "code",
   "execution_count": 42,
   "metadata": {},
   "outputs": [
    {
     "name": "stdout",
     "output_type": "stream",
     "text": [
      "False True\n",
      "True\n",
      "False\n"
     ]
    }
   ],
   "source": [
    "#成员运算符的案例\n",
    "l = [1,2,3,4,5]\n",
    "a = 7\n",
    "b = 5\n",
    "print(a in l,b in l)\n",
    "#身份运算符的案例\n",
    "a = 9\n",
    "b = 9\n",
    "print( a is b)\n",
    "\n",
    "a = \"I love wangxiaojing\"\n",
    "b = \"I love wangxiaojing\"\n",
    "print( a is b)"
   ]
  },
  {
   "cell_type": "code",
   "execution_count": 34,
   "metadata": {},
   "outputs": [
    {
     "name": "stdout",
     "output_type": "stream",
     "text": [
      "True False\n"
     ]
    }
   ],
   "source": [
    "a = 2**2\n",
    "b = a == 4\n",
    "c = a == 5\n",
    "print(b,c)"
   ]
  },
  {
   "cell_type": "code",
   "execution_count": 36,
   "metadata": {},
   "outputs": [
    {
     "name": "stdout",
     "output_type": "stream",
     "text": [
      "True True\n"
     ]
    }
   ],
   "source": [
    "#逻辑运算符案例\n",
    "a = True\n",
    "b = False\n",
    "c = True\n",
    "\n",
    "d = a and b or c\n",
    "e = a or b and c\n",
    "print(d,e)"
   ]
  },
  {
   "cell_type": "code",
   "execution_count": 38,
   "metadata": {},
   "outputs": [
    {
     "name": "stdout",
     "output_type": "stream",
     "text": [
      "True False\n"
     ]
    }
   ],
   "source": [
    "#逻辑运算符短路的示例\n",
    "a = True or XXXXX\n",
    "b = False and (xxxx)\n",
    "\n",
    "print(a,b)"
   ]
  },
  {
   "cell_type": "markdown",
   "metadata": {},
   "source": []
  }
 ],
 "metadata": {
  "kernelspec": {
   "display_name": "Python 3",
   "language": "python",
   "name": "python3"
  },
  "language_info": {
   "codemirror_mode": {
    "name": "ipython",
    "version": 3
   },
   "file_extension": ".py",
   "mimetype": "text/x-python",
   "name": "python",
   "nbconvert_exporter": "python",
   "pygments_lexer": "ipython3",
   "version": "3.7.0"
  }
 },
 "nbformat": 4,
 "nbformat_minor": 2
}
