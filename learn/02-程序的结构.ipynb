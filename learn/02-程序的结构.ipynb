{
 "cells": [
  {
   "cell_type": "markdown",
   "metadata": {},
   "source": [
    "# 程序的结构\n",
    "  - 顺序\n",
    "  - 分支\n",
    "  - 循环\n",
    "  "
   ]
  },
  {
   "cell_type": "markdown",
   "metadata": {},
   "source": [
    "## 分支\n",
    "   - 分支的基本语法\n",
    "   \n",
    "       if 条件表达式：\n",
    "         语句1\n",
    "         语句2\n",
    "         语句3\n",
    "         \n",
    "   - 条件表达式就是计算结果必须为布尔值的表达式\n",
    "   - 表达式后面的冒号不能少\n",
    "   - if后面出现的语句，如果属于if语句块，则必须同一个缩进等级\n",
    "   - 条件表达式结果为True之行if后面的缩进的语句块"
   ]
  },
  {
   "cell_type": "code",
   "execution_count": 16,
   "metadata": {},
   "outputs": [
    {
     "name": "stdout",
     "output_type": "stream",
     "text": [
      "老司机开课咯\n"
     ]
    }
   ],
   "source": [
    "# if语句联系\n",
    "# 如果年龄小于18岁，则打印信息“去叫家长”\n",
    "age =19\n",
    "if age<18:\n",
    "    print(\"18岁以下禁止入内\")\n",
    "    print(\"内容可能引起不适\")\n",
    "    \n",
    "print(\"老司机开课咯\")"
   ]
  },
  {
   "cell_type": "code",
   "execution_count": 17,
   "metadata": {},
   "outputs": [
    {
     "name": "stdout",
     "output_type": "stream",
     "text": [
      "今天学习for循环 \n"
     ]
    }
   ],
   "source": [
    "print(\"今天学习for循环 \")"
   ]
  },
  {
   "cell_type": "markdown",
   "metadata": {},
   "source": [
    "### 双向分支\n",
    "- if。。。else。。。\n",
    "\n",
    "    if 条件表达式：\n",
    "        语句1\n",
    "        语句2\n",
    "    else：\n",
    "        语句1\n",
    "        语句2\n",
    "        \n",
    "- 双向分支有两个分支，当程序执行if。。。else。。。语句的时候，一定会执行其中一个，仅执行一个。\n",
    "- 缩进问题，if和else为一个层级，其他语句为一个层级\n",
    "### 多路分支\n",
    "- 很多分支的情况，简称对路分支\n",
    "\n",
    "    if 条件表达式：\n",
    "        语句1\n",
    "        ...\n",
    "    elif 条件表达式：\n",
    "        语句1\n",
    "        ...\n",
    "    elif 条件表达式\n",
    "        语句1\n",
    "        ...\n",
    "    ....\n",
    "    else：\n",
    "        语句1\n",
    "        ...\n",
    "        \n",
    "- elif可以有很多个\n",
    "- else可以有也可以有\n",
    "- 多路分支只执行一个"
   ]
  },
  {
   "cell_type": "code",
   "execution_count": 22,
   "metadata": {},
   "outputs": [
    {
     "name": "stdout",
     "output_type": "stream",
     "text": [
      "请输入性别：男\n",
      "你输入的性别是：男\n",
      "来，老司机们上车了\n",
      "开始上课吧\n"
     ]
    }
   ],
   "source": [
    "#input的作用\n",
    "#1.在屏幕上输出括号内的字符串\n",
    "#2.接受用户输入的内容并返回程序\n",
    "#3.input返回的内容一定是字符串形式\n",
    "gender = input(\"请输入性别：\")\n",
    "print(\"你输入的性别是：{0}\".format(gender))\n",
    "\n",
    "if gender == \"男\":\n",
    "    print(\"来，老司机们上车了\")\n",
    "else:\n",
    "    print(\"女生请勿乱入\")\n",
    "\n",
    "print(\"开始上课吧\")"
   ]
  },
  {
   "cell_type": "code",
   "execution_count": 38,
   "metadata": {},
   "outputs": [
    {
     "name": "stdout",
     "output_type": "stream",
     "text": [
      "请输入学生的成绩：30\n",
      "学生的成绩是：30\n",
      "我没你这学生\n"
     ]
    }
   ],
   "source": [
    "# 考试成绩\n",
    "# 90以上：输出优秀\n",
    "# 80-99：良\n",
    "# 70-80：中\n",
    "# 60-70：平\n",
    "# 60以下：输出：我没你这学生\n",
    "# score 存放学生成绩\n",
    "score = input(\"请输入学生的成绩：\")\n",
    "# 需要把str转换成int\n",
    "score = int(score)\n",
    "print(\"学生的成绩是：{0}\".format(score))\n",
    "if score > 90:\n",
    "    print(\"A\")\n",
    "if score > 80 and score <= 90:\n",
    "    print(\"B\")\n",
    "if score > 70 and score <= 80:\n",
    "    print(\"C\")\n",
    "if score >= 60 and score <= 70:\n",
    "    print(\"D\")\n",
    "if score < 60:\n",
    "    print(\"我没你这学生\")\n",
    "    "
   ]
  },
  {
   "cell_type": "code",
   "execution_count": 47,
   "metadata": {},
   "outputs": [
    {
     "name": "stdout",
     "output_type": "stream",
     "text": [
      "请输入学生的成绩：15\n",
      "学生的成绩是：15\n",
      "我没你这学生\n"
     ]
    }
   ],
   "source": [
    "# 多路分支\n",
    "# 考试成绩\n",
    "# 90以上：输出优秀\n",
    "# 80-99：良\n",
    "# 70-80：中\n",
    "# 60-70：平\n",
    "# 60以下：输出：我没你这学生\n",
    "# score 存放学生成绩\n",
    "score = input(\"请输入学生的成绩：\")\n",
    "# 需要把str转换成int\n",
    "score = int(score)\n",
    "print(\"学生的成绩是：{0}\".format(score))\n",
    "if score > 90:\n",
    "    print(\"A\")\n",
    "elif score > 80:\n",
    "    print(\"B\")\n",
    "elif score > 70:\n",
    "    print(\"C\")\n",
    "elif score >= 60:\n",
    "    print(\"D\")\n",
    "else:\n",
    "    print(\"我没你这学生\")"
   ]
  },
  {
   "cell_type": "markdown",
   "metadata": {},
   "source": [
    "## if 语句其他：\n",
    "- if语句可以嵌套，但不推荐\n",
    "- Python没有switch-case语句。"
   ]
  },
  {
   "cell_type": "markdown",
   "metadata": {},
   "source": [
    "# 循环语句\n",
    "- 重复执行某些固定动作或者处理基本固定的事物\n",
    "- 分类\n",
    " - for循环\n",
    " - while循环\n",
    "## for循环\n",
    "- for循环\n",
    "\n",
    "    for 变量 in序列：\n",
    "        语句1\n",
    "        语句2\n",
    "        ...\n",
    "- for-else语句\n",
    "    - 当for循环结束的时候，会执行else语句\n",
    "    - else是可选的"
   ]
  },
  {
   "cell_type": "code",
   "execution_count": 53,
   "metadata": {},
   "outputs": [
    {
     "name": "stdout",
     "output_type": "stream",
     "text": [
      "张三\n",
      "张三是好学生啊\n",
      "李四\n",
      "李四,你要好好向张三学习啊\n",
      "王二麻子\n",
      "王二麻子,你要好好向张三学习啊\n",
      "其他同学的话  我们不收学生啦\n"
     ]
    }
   ],
   "source": [
    "# for-else语句\n",
    "for name in ['张三','李四','王二麻子']:\n",
    "    print(name)\n",
    "    if name == \"张三\":\n",
    "        print(\"{0}是好学生啊\".format(name))\n",
    "    else:\n",
    "        print(\"{0},你要好好向张三学习啊\".format(name))\n",
    "else:\n",
    "    print(\"其他同学的话  我们不收学生啦\")"
   ]
  },
  {
   "cell_type": "code",
   "execution_count": 2,
   "metadata": {},
   "outputs": [
    {
     "name": "stdout",
     "output_type": "stream",
     "text": [
      "张三\n",
      "李四\n",
      "王二麻子\n"
     ]
    }
   ],
   "source": [
    "# 列表是一列数字或者其他类型，一般用中括号表示\n",
    "# 例如：['张三'，'李四','王二麻子']\n",
    "# 打印学生列表姓名\n",
    "for name in ['张三','李四','王二麻子']:\n",
    "    print(name)"
   ]
  },
  {
   "cell_type": "code",
   "execution_count": 5,
   "metadata": {},
   "outputs": [
    {
     "name": "stdout",
     "output_type": "stream",
     "text": [
      "张三\n",
      "张三是好学生啊\n",
      "李四\n",
      "你要好好向张三学习啊\n",
      "王二麻子\n",
      "你要好好向张三学习啊\n"
     ]
    }
   ],
   "source": [
    "# 打印学生列表姓名\n",
    "# 如果是张三，就说这是好学生\n",
    "# 如果是别的学生，你们要向他学习\n",
    "for name in ['张三','李四','王二麻子']:\n",
    "    print(name)\n",
    "    if name == \"张三\":\n",
    "        print(\"{0}是好学生啊\".format(name))\n",
    "    else:\n",
    "        print(\"你要好好向张三学习啊\")"
   ]
  },
  {
   "cell_type": "markdown",
   "metadata": {},
   "source": [
    "## range介绍\n",
    "- 生成一个数字序列\n",
    "- 具体范围可以设定\n",
    "- 注意：在Python中，如果有表示数字的两个数，一般是包含左边数字，不包含右边数字\n",
    "- randint是特例，他左右都包含\n",
    "- range函数在Python2和Python3中有很大区别"
   ]
  },
  {
   "cell_type": "code",
   "execution_count": 19,
   "metadata": {},
   "outputs": [
    {
     "name": "stdout",
     "output_type": "stream",
     "text": [
      "1\n",
      "2\n",
      "3\n",
      "4\n",
      "5\n",
      "6\n",
      "7\n",
      "8\n",
      "9\n",
      "10\n"
     ]
    }
   ],
   "source": [
    "# range联系\n",
    "# 打印从1-10的数字\n",
    "for i in range(1,11):\n",
    "    print(i)"
   ]
  },
  {
   "cell_type": "markdown",
   "metadata": {},
   "source": [
    "## 循环之break，continue，pass\n",
    "- break：无条件结束整个循环，简称循环猝死\n",
    "- continue：无条件结束本次循环，进入下一轮循环\n",
    "- pass：表示略过"
   ]
  },
  {
   "cell_type": "code",
   "execution_count": 36,
   "metadata": {},
   "outputs": [
    {
     "name": "stdout",
     "output_type": "stream",
     "text": [
      "我要变成大神\n",
      "我要变成大神\n",
      "我要变成大神\n",
      "我要变成大神\n",
      "我要变成大神\n",
      "我要变成大神\n",
      "我要变成大神\n",
      "我要变成大神\n",
      "我要变成大神\n",
      "我要变成大神\n",
      "1\n",
      "2\n",
      "3\n",
      "4\n",
      "5\n",
      "6\n",
      "7\n",
      "我找到了,这就是7\n"
     ]
    }
   ],
   "source": [
    "# 在数字1-10中，寻找数字7，一旦找到，打印出来，其余则什么都不做\n",
    "# for循环中的变量表示,一般用i,k,m,n,或者index,idx,item之类\n",
    "# 在Python中,如果循环变量名称不重要,可以用下划线(_)代替\n",
    "for _ in range(1,11):\n",
    "    print(\"我要变成大神\")\n",
    "    \n",
    "for i in range(1,11):\n",
    "    if i ==7:\n",
    "        print(i)\n",
    "        print(\"我找到了,这就是{0}\".format(i))\n",
    "        break# 可换成pass,break查看结果\n",
    "    else:\n",
    "        print(i)"
   ]
  },
  {
   "cell_type": "code",
   "execution_count": 41,
   "metadata": {},
   "outputs": [
    {
     "name": "stdout",
     "output_type": "stream",
     "text": [
      "2是偶数\n",
      "4是偶数\n",
      "6是偶数\n",
      "8是偶数\n",
      "10是偶数\n"
     ]
    }
   ],
   "source": [
    "# 在1-10中寻找偶数,用continue语句\n",
    "for i in range(1,11):\n",
    "    if i % 2 ==1:\n",
    "        continue# 可换成pass,break查看结果\n",
    "    else:\n",
    "        print(\"{0}是偶数\".format(i))"
   ]
  },
  {
   "cell_type": "code",
   "execution_count": 43,
   "metadata": {},
   "outputs": [
    {
     "name": "stdout",
     "output_type": "stream",
     "text": [
      "2是偶数\n",
      "4是偶数\n",
      "6是偶数\n",
      "8是偶数\n",
      "10是偶数\n"
     ]
    }
   ],
   "source": [
    "# 在1-10中寻找偶数,用正常写法\n",
    "for i in range(1,11):\n",
    "    if i % 2 ==0:\n",
    "         print(\"{0}是偶数\".format(i))\n"
   ]
  },
  {
   "cell_type": "code",
   "execution_count": 1,
   "metadata": {},
   "outputs": [
    {
     "name": "stdout",
     "output_type": "stream",
     "text": [
      "2是偶数\n",
      "4是偶数\n",
      "6是偶数\n",
      "8是偶数\n",
      "10是偶数\n"
     ]
    }
   ],
   "source": [
    "# 在1-10中寻找偶数,用第三种写法\n",
    "for i in range(1,11):\n",
    "    if i % 2 ==1:\n",
    "        continue# 不是偶数的时候,就直接跳过此次循环;是偶数的时候,继续命令,执行print语句\n",
    "    print(\"{0}是偶数\".format(i))"
   ]
  },
  {
   "cell_type": "code",
   "execution_count": null,
   "metadata": {},
   "outputs": [],
   "source": [
    "# pass的例子,一般用于占位\n",
    "# 没有跳过功能\n",
    "for i in range(1,3):\n",
    "    pass\n",
    "    print(\"我出现,一脸懵逼\")# 程序执行了两遍循环,但是每次循环的时候,遇到pass略过,直接执行了下一条语句,即print"
   ]
  },
  {
   "cell_type": "markdown",
   "metadata": {},
   "source": [
    "## while循环\n",
    "- 一个循环语句\n",
    "- 表示当某条件成立的时候,就循环\n",
    "- 不知道具体循环次数,但能确定循环的成立条件的时候用while循环\n",
    "- while语法:\n",
    "\n",
    "    while 条件表达式:\n",
    "        语句块\n",
    "    另外一种表达方式\n",
    "    while 条件表达式:\n",
    "        语句块1\n",
    "    else:\n",
    "        语句块2 ###while循环结束的时候,执行else语句,只执行一次"
   ]
  },
  {
   "cell_type": "code",
   "execution_count": 6,
   "metadata": {},
   "outputs": [
    {
     "name": "stdout",
     "output_type": "stream",
     "text": [
      "第1年啦,拿了1067.0钱\n",
      "第2年啦,拿了1138.489钱\n",
      "第3年啦,拿了1214.767763钱\n",
      "第4年啦,拿了1296.157203121钱\n",
      "第5年啦,拿了1382.999735730107钱\n",
      "第6年啦,拿了1475.6607180240242钱\n",
      "第7年啦,拿了1574.5299861316337钱\n",
      "第8年啦,拿了1680.023495202453钱\n",
      "第9年啦,拿了1792.5850693810173钱\n",
      "第10年啦,拿了1912.6882690295454钱\n",
      "第11年啦,拿了2040.838383054525钱\n",
      "大爷的,终于翻倍了\n"
     ]
    }
   ],
   "source": [
    "# 如果说年利率是6.7%,本利是每年翻滚,则多少年后本钱会翻倍\n",
    "s = 1000\n",
    "year = 0\n",
    "while s < 2000:\n",
    "    s = s * (1+0.067)\n",
    "    year +=1 # year= year+1\n",
    "    print(\"第{0}年啦,拿了{1}钱\".format(year,s))\n",
    "else:\n",
    "    print(\"大爷的,终于翻倍了\")"
   ]
  },
  {
   "cell_type": "code",
   "execution_count": null,
   "metadata": {},
   "outputs": [],
   "source": []
  }
 ],
 "metadata": {
  "kernelspec": {
   "display_name": "Python 3",
   "language": "python",
   "name": "python3"
  },
  "language_info": {
   "codemirror_mode": {
    "name": "ipython",
    "version": 3
   },
   "file_extension": ".py",
   "mimetype": "text/x-python",
   "name": "python",
   "nbconvert_exporter": "python",
   "pygments_lexer": "ipython3",
   "version": "3.7.0"
  }
 },
 "nbformat": 4,
 "nbformat_minor": 2
}
