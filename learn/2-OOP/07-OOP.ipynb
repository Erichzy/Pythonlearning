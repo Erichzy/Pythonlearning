{
 "cells": [
  {
   "cell_type": "code",
   "execution_count": 2,
   "metadata": {},
   "outputs": [
    {
     "name": "stdout",
     "output_type": "stream",
     "text": [
      "三蠢\n",
      "18\n",
      "********************\n",
      "2286463896368\n",
      "140734454559008\n",
      "********************\n",
      "三蠢\n",
      "18\n",
      "********************\n",
      "2286463896368\n",
      "140734454559008\n",
      "********************\n"
     ]
    }
   ],
   "source": [
    "class S():\n",
    "    name = \"三蠢\"\n",
    "    age = 18\n",
    "    \n",
    "    # say的写法,参数由一个self\n",
    "    def say(self):\n",
    "        self.name = \"三蠢\"\n",
    "        self.age = 18\n",
    "# 此案例说明\n",
    "# 类实例的属性和其对象的实例的属性在不对对象的实例属性赋值的前提\n",
    "# 指向同一变量\n",
    "        \n",
    "        \n",
    "# 此时,A称为类实例\n",
    "print(S.name)\n",
    "print(S.age)\n",
    "print(\"*\" * 20)\n",
    "\n",
    "# id可以鉴别一个变量是否和另一个变量是同一变量\n",
    "print(id(S.name))\n",
    "print(id(S.age))\n",
    "print(\"*\" * 20)\n",
    "\n",
    "a = S()\n",
    "print(a.name)\n",
    "print(a.age)\n",
    "print(\"*\" * 20)\n",
    "print(id(a.name))\n",
    "print(id(a.age))\n",
    "print(\"*\" * 20)"
   ]
  },
  {
   "cell_type": "code",
   "execution_count": 1,
   "metadata": {},
   "outputs": [
    {
     "ename": "NameError",
     "evalue": "name 'S' is not defined",
     "output_type": "error",
     "traceback": [
      "\u001b[1;31m---------------------------------------------------------------------------\u001b[0m",
      "\u001b[1;31mNameError\u001b[0m                                 Traceback (most recent call last)",
      "\u001b[1;32m<ipython-input-1-f987d005ed9e>\u001b[0m in \u001b[0;36m<module>\u001b[1;34m()\u001b[0m\n\u001b[0;32m      1\u001b[0m \u001b[1;31m# 此时,A称为类实例\u001b[0m\u001b[1;33m\u001b[0m\u001b[1;33m\u001b[0m\u001b[0m\n\u001b[1;32m----> 2\u001b[1;33m \u001b[0mprint\u001b[0m\u001b[1;33m(\u001b[0m\u001b[0mS\u001b[0m\u001b[1;33m.\u001b[0m\u001b[0mname\u001b[0m\u001b[1;33m)\u001b[0m\u001b[1;33m\u001b[0m\u001b[0m\n\u001b[0m\u001b[0;32m      3\u001b[0m \u001b[0mprint\u001b[0m\u001b[1;33m(\u001b[0m\u001b[0mS\u001b[0m\u001b[1;33m.\u001b[0m\u001b[0mage\u001b[0m\u001b[1;33m)\u001b[0m\u001b[1;33m\u001b[0m\u001b[0m\n\u001b[0;32m      4\u001b[0m \u001b[0mprint\u001b[0m\u001b[1;33m(\u001b[0m\u001b[1;34m\"*\"\u001b[0m \u001b[1;33m*\u001b[0m \u001b[1;36m20\u001b[0m\u001b[1;33m)\u001b[0m\u001b[1;33m\u001b[0m\u001b[0m\n\u001b[0;32m      5\u001b[0m \u001b[1;33m\u001b[0m\u001b[0m\n",
      "\u001b[1;31mNameError\u001b[0m: name 'S' is not defined"
     ]
    }
   ],
   "source": [
    "# 此时,A称为类实例\n",
    "print(S.name)\n",
    "print(S.age)\n",
    "print(\"*\" * 20)\n",
    "\n",
    "# id可以鉴别一个变量是否和另一个变量是同一变量\n",
    "print(id(S.name))\n",
    "print(id(S.age))\n",
    "print(\"*\" * 20)\n",
    "\n",
    "a = S()\n",
    "# 查看S内所有的属性\n",
    "print(S.__dict__)\n",
    "print(\"*\" * 20)\n",
    "print(a.__dict__)\n",
    "\n",
    "a.name = \"二傻\"\n",
    "a.age = 15\n",
    "print(a.__dict__)\n",
    "\n",
    "print(a.name)\n",
    "print(a.age)\n",
    "print(\"*\" * 20)\n",
    "print(id(a.name))\n",
    "print(id(a.age))\n",
    "print(\"*\" * 20)"
   ]
  },
  {
   "cell_type": "code",
   "execution_count": 9,
   "metadata": {},
   "outputs": [
    {
     "name": "stdout",
     "output_type": "stream",
     "text": [
      "My name is AAAA\n",
      "My age is 1200\n",
      "My name is AAAA\n",
      "My age is 1200\n"
     ]
    }
   ],
   "source": [
    "class Student():\n",
    "    name = \"三蠢\"\n",
    "    age = 18\n",
    "    \n",
    "    # say的写法,参数由一个self\n",
    "    def say(self):\n",
    "        self.name = \"AAAA\"\n",
    "        self.age = 1200\n",
    "        print(\"My name is {0}\".format(self.name))\n",
    "        print(\"My age is {0}\".format(self.age))\n",
    "        \n",
    "    def sayAgain(s):\n",
    "        print(\"My name is {0}\".format(s.name))\n",
    "        print(\"My age is {0}\".format(s.age))\n",
    "        \n",
    "a = Student()\n",
    "a.say()\n",
    "a.sayAgain()"
   ]
  },
  {
   "cell_type": "code",
   "execution_count": 13,
   "metadata": {},
   "outputs": [
    {
     "name": "stdout",
     "output_type": "stream",
     "text": [
      "My name is AAAA\n",
      "My age is 20\n",
      "二傻\n",
      "20\n",
      "Hello,see you again\n"
     ]
    }
   ],
   "source": [
    "class Teacher():\n",
    "    name = \"二傻\"\n",
    "    age = 20\n",
    "    \n",
    "    def say(self):\n",
    "        self.name = \"AAAA\"\n",
    "        self.age = 1200\n",
    "        print(\"My name is {0}\".format(self.name))\n",
    "        #调用类成员变量的时候需要使用__class__\n",
    "        print(\"My age is {0}\".format(__class__.age))\n",
    "    def sayAgain():\n",
    "        print(__class__.name)\n",
    "        print(__class__.age)\n",
    "        print(\"Hello,see you again\")\n",
    "        \n",
    "\n",
    "t = Teacher()\n",
    "t.say()\n",
    "# 调用绑定类函数使用类名\n",
    "#t.sayAgain() #会报错\n",
    "Teacher.sayAgain() \n"
   ]
  },
  {
   "cell_type": "code",
   "execution_count": 19,
   "metadata": {},
   "outputs": [
    {
     "name": "stdout",
     "output_type": "stream",
     "text": [
      "aaa\n",
      "20\n",
      "aaa\n",
      "20\n",
      "傻子\n",
      "18\n",
      "bbbb\n",
      "30\n"
     ]
    }
   ],
   "source": [
    "# 关于self的案例\n",
    "\n",
    "class A():\n",
    "    name = \"傻子\"\n",
    "    age = 18\n",
    "    \n",
    "    def __init__(self):\n",
    "        self.name = \"aaa\"\n",
    "        self.age = 20\n",
    "        \n",
    "    def say(self):\n",
    "        print(self.name)\n",
    "        print(self.age)\n",
    "        \n",
    "class B():\n",
    "    name = \"bbbb\"\n",
    "    age = 30\n",
    "\n",
    "a = A()\n",
    "a.say()\n",
    "\n",
    "# 此时,self被a替换,系统会默认把a作为第一个参数传入函数\n",
    "A.say(a)\n",
    "# 同样可把A作为参数传入\n",
    "A.say(A)\n",
    "# 此时,传入的事类实例B,因为B具有name和age属性,所以不会报错\n",
    "A.say(B)\n",
    "\n",
    "# 以上代码,利用了鸭子模型"
   ]
  },
  {
   "cell_type": "code",
   "execution_count": 22,
   "metadata": {},
   "outputs": [
    {
     "name": "stdout",
     "output_type": "stream",
     "text": [
      "二傻\n"
     ]
    },
    {
     "ename": "AttributeError",
     "evalue": "'Person' object has no attribute '__age'",
     "output_type": "error",
     "traceback": [
      "\u001b[1;31m---------------------------------------------------------------------------\u001b[0m",
      "\u001b[1;31mAttributeError\u001b[0m                            Traceback (most recent call last)",
      "\u001b[1;32m<ipython-input-22-6fe5c8f0d98c>\u001b[0m in \u001b[0;36m<module>\u001b[1;34m()\u001b[0m\n\u001b[0;32m     11\u001b[0m \u001b[0mprint\u001b[0m\u001b[1;33m(\u001b[0m\u001b[0mp\u001b[0m\u001b[1;33m.\u001b[0m\u001b[0mname\u001b[0m\u001b[1;33m)\u001b[0m\u001b[1;33m\u001b[0m\u001b[0m\n\u001b[0;32m     12\u001b[0m \u001b[1;31m# age是私有变量\u001b[0m\u001b[1;33m\u001b[0m\u001b[1;33m\u001b[0m\u001b[0m\n\u001b[1;32m---> 13\u001b[1;33m \u001b[0mprint\u001b[0m\u001b[1;33m(\u001b[0m\u001b[0mp\u001b[0m\u001b[1;33m.\u001b[0m\u001b[0m__age\u001b[0m\u001b[1;33m)\u001b[0m\u001b[1;33m\u001b[0m\u001b[0m\n\u001b[0m",
      "\u001b[1;31mAttributeError\u001b[0m: 'Person' object has no attribute '__age'"
     ]
    }
   ],
   "source": [
    "# 私有变量案例\n",
    "\n",
    "class Person():\n",
    "    # name是共有成员\n",
    "    name = \"二傻\"\n",
    "    # __age就是私有变量\n",
    "    __age = 18\n",
    "    \n",
    "p = Person()\n",
    "# name是共有变量\n",
    "print(p.name)\n",
    "# age是私有变量\n",
    "# 注意报错信息\n",
    "print(p.__age)\n"
   ]
  },
  {
   "cell_type": "code",
   "execution_count": 24,
   "metadata": {},
   "outputs": [
    {
     "name": "stdout",
     "output_type": "stream",
     "text": [
      "{'__module__': '__main__', 'name': '二傻', '_Person__age': 18, '__dict__': <attribute '__dict__' of 'Person' objects>, '__weakref__': <attribute '__weakref__' of 'Person' objects>, '__doc__': None}\n",
      "19\n"
     ]
    }
   ],
   "source": [
    "# 私有变量案例,name mangling技术\n",
    "\n",
    "class Person():\n",
    "    # name是共有成员\n",
    "    name = \"二傻\"\n",
    "    # __age就是私有变量\n",
    "    __age = 18\n",
    "    \n",
    "print(Person.__dict__)\n",
    "\n",
    "p._Person__age = 19\n",
    "print(p._Person__age)\n",
    "\n",
    "git config --global user.name \"Erichzy\"\n",
    "\n",
    "git config --global user.email \"ihuangzunyi@163.com\""
   ]
  }
 ],
 "metadata": {
  "kernelspec": {
   "display_name": "Python 3",
   "language": "python",
   "name": "python3"
  },
  "language_info": {
   "codemirror_mode": {
    "name": "ipython",
    "version": 3
   },
   "file_extension": ".py",
   "mimetype": "text/x-python",
   "name": "python",
   "nbconvert_exporter": "python",
   "pygments_lexer": "ipython3",
   "version": "3.7.0"
  }
 },
 "nbformat": 4,
 "nbformat_minor": 2
}
