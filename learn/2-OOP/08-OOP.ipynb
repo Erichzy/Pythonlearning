{
 "cells": [
  {
   "cell_type": "code",
   "execution_count": 16,
   "metadata": {},
   "outputs": [
    {
     "name": "stdout",
     "output_type": "stream",
     "text": [
      "我是个老师\n",
      "我是个老师\n",
      "sec\n",
      "sleeping...\n",
      "拉阿拉\n",
      "{}\n"
     ]
    }
   ],
   "source": [
    "# 继承的语法\n",
    "# 在Python中,任何类都有一个共同的父类叫object\n",
    "class person():\n",
    "    name = \"noname\"\n",
    "    gender = \"none\"\n",
    "    __age = 0 # 私有的,子类和外界都无法访问\n",
    "    _petname = \"sec\" # 受保护的,子类可以用,但不能共用\n",
    "    def sleep(self):\n",
    "        print(\"sleeping...\")\n",
    "\n",
    "# 父类写在括号里面\n",
    "class Teacher(person):\n",
    "    name = \"我是个老师\"\n",
    "    def make_test(self):\n",
    "        print(\"拉阿拉\")\n",
    "        pass\n",
    "\n",
    "# 子类和父类定义同一个名称变量,则优先使用子类本身\n",
    "t = Teacher()\n",
    "print(t.name)\n",
    "print(Teacher.name)\n",
    "print(t._petname)\n",
    "# print(t.__age)\n",
    "t.sleep()\n",
    "t.make_test()\n",
    "print(t.__dict__)"
   ]
  },
  {
   "cell_type": "code",
   "execution_count": 20,
   "metadata": {},
   "outputs": [
    {
     "name": "stdout",
     "output_type": "stream",
     "text": [
      "make some money\n",
      "attention\n",
      "努力工作\n"
     ]
    }
   ],
   "source": [
    "# 子类扩充父类功能\n",
    "# 人有工作的函数,老师也有工作的函数,但老师的工作需要讲课\n",
    "class person():\n",
    "    name = \"noname\"\n",
    "    gender = \"none\"\n",
    "    __age = 0 # 私有的,子类和外界都无法访问\n",
    "    _petname = \"sec\" # 受保护的,子类可以用,但不能共用\n",
    "    def sleep(self):\n",
    "        print(\"sleeping...\")\n",
    "    def work(self):\n",
    "        print(\"make some money\")\n",
    "\n",
    "# 父类写在括号里面\n",
    "class Teacher(person):\n",
    "    name = \"我是个老师\"\n",
    "    def make_test(self):\n",
    "        print(\"attention\")\n",
    "    \n",
    "    def work(self):\n",
    "        # 扩充父类的功能,只需要调用父类相应的函数\n",
    "        # person.work(self)--这是一种方法\n",
    "        # 扩充父类的另一种方法\n",
    "        # super代表得到父类\n",
    "        super().work()\n",
    "        self.make_test()\n",
    "        print(\"努力工作\")\n",
    "        pass\n",
    "t = Teacher()\n",
    "t.work()"
   ]
  },
  {
   "cell_type": "code",
   "execution_count": 22,
   "metadata": {},
   "outputs": [
    {
     "name": "stdout",
     "output_type": "stream",
     "text": [
      "I am init in dog\n"
     ]
    }
   ],
   "source": [
    "# 构造函数的概念\n",
    "class Dog():\n",
    "    # __init__就是构造函数\n",
    "    # 每次实例化的时候,第一个被自动调用\n",
    "    # 因为主要工作是进行初始化,所以得名\n",
    "    def __init__(self):\n",
    "        print(\"I am init in dog\")\n",
    "        \n",
    "# 实例化的时候,括号内的参数需要跟构造函数参数相匹配\n",
    "kak = Dog()"
   ]
  },
  {
   "cell_type": "code",
   "execution_count": 24,
   "metadata": {},
   "outputs": [
    {
     "name": "stdout",
     "output_type": "stream",
     "text": [
      "I am init in dog\n"
     ]
    }
   ],
   "source": [
    "# 继承中的构造函数1\n",
    "class Animal():\n",
    "    pass\n",
    "\n",
    "class BuruAni(Animal):\n",
    "    pass\n",
    "\n",
    "class Dog(BuruAni):\n",
    "    # __init__就是构造函数\n",
    "    # 每次实例化的时候,第一个被自动调用\n",
    "    # 因为主要工作是进行初始化,所以得名\n",
    "    def __init__(self):\n",
    "        print(\"I am init in dog\")\n",
    "        \n",
    "# 实例化的时候,自动调用了Dog的构造函数\n",
    "kaka = Dog()"
   ]
  },
  {
   "cell_type": "code",
   "execution_count": 33,
   "metadata": {},
   "outputs": [
    {
     "name": "stdout",
     "output_type": "stream",
     "text": [
      "I am init in dog\n",
      "哺乳动物\n"
     ]
    }
   ],
   "source": [
    "# 继承中的构造函数2\n",
    "class Animal():\n",
    "    def __init__(self):\n",
    "        print(\"动物\")\n",
    "    pass\n",
    "\n",
    "class BuruAni(Animal):\n",
    "    def __init__(self):\n",
    "        print(\"哺乳动物\")\n",
    "    pass\n",
    "\n",
    "class Dog(BuruAni):\n",
    "    # __init__就是构造函数\n",
    "    # 每次实例化的时候,第一个被自动调用\n",
    "    # 因为主要工作是进行初始化,所以得名\n",
    "    def __init__(self):\n",
    "        print(\"I am init in dog\")\n",
    "        \n",
    "# 实例化的时候,自动调用了Dog的构造函数\n",
    "# 因为找到了构造函数,则不再查找父类的构造函数\n",
    "kaka = Dog()\n",
    "\n",
    "# 猫没有构造函数\n",
    "class Cat(BuruAni):\n",
    "    pass\n",
    "# 此时应该自动调用构造函数,因为Cat没有构造函数,所以查找父类构造函数\n",
    "# 在BuruAni中找到了构造函数,则不再继续查找\n",
    "papa = Cat()"
   ]
  },
  {
   "cell_type": "code",
   "execution_count": 43,
   "metadata": {},
   "outputs": [
    {
     "name": "stdout",
     "output_type": "stream",
     "text": [
      "I am init in dog\n",
      "哺乳动物,傻帽\n"
     ]
    }
   ],
   "source": [
    "# 继承中的构造函数3\n",
    "\n",
    "class Animal():    \n",
    "    def __init__(self):\n",
    "        print(\"动物\")\n",
    "    pass\n",
    "\n",
    "class BuruAni(Animal):\n",
    "    def __init__(self,name):\n",
    "        print(\"哺乳动物,{0}\".format(name))\n",
    "    pass\n",
    "\n",
    "class Dog(BuruAni):\n",
    "    # __init__就是构造函数\n",
    "    # 每次实例化的时候,第一个被自动调用\n",
    "    # 因为主要工作是进行初始化,所以得名\n",
    "    def __init__(self):\n",
    "        print(\"I am init in dog\")\n",
    "# 实例化Dog时,查找到Dog的构造函数,参数匹配,不报错        \n",
    "kaka = Dog()\n",
    "\n",
    "class Cat(BuruAni):\n",
    "    name = \"猫\"\n",
    "    pass\n",
    "\n",
    "# 此时,由于Cat没有构造函数,则向上查找\n",
    "# 因为BuruAni的构造函数需要两个参数,实例化的时候只给了一个,会报错\n",
    "# c = Cat()--报错\n",
    "c = Cat(\"傻帽\")  # 多给了一个参数,所以不会报错"
   ]
  },
  {
   "cell_type": "code",
   "execution_count": 53,
   "metadata": {},
   "outputs": [
    {
     "name": "stdout",
     "output_type": "stream",
     "text": [
      "哺乳动物\n",
      "哺乳动物\n",
      "哺乳动物\n",
      "动物\n",
      "动物\n",
      "I am init in dog\n"
     ]
    }
   ],
   "source": [
    "# 继承中的构造函数4\n",
    "# 调用父类的构造函数\n",
    "\n",
    "class Animal():    \n",
    "    def __init__(self):\n",
    "        print(\"动物\")\n",
    "    pass\n",
    "\n",
    "class BuruAni(Animal):\n",
    "    def __init__(self):\n",
    "        print(\"哺乳动物\")\n",
    "    pass\n",
    "\n",
    "class Dog(BuruAni):\n",
    "    # __init__就是构造函数\n",
    "    # 每次实例化的时候,第一个被自动调用\n",
    "    # 因为主要工作是进行初始化,所以得名\n",
    "    def __init__(self):\n",
    "        super().__init__()  # 调用父类的构造函数\n",
    "        BuruAni().__init__()# 生成了两次\n",
    "        Animal().__init__())# 生成了两次??????????\n",
    "        print(\"I am init in dog\")\n",
    "# 实例化Dog时,查找到Dog的构造函数,参数匹配,不报错        \n",
    "kaka = Dog()\n",
    "\n",
    "class Cat(BuruAni):\n",
    "    name = \"猫\"\n",
    "    pass"
   ]
  }
 ],
 "metadata": {
  "kernelspec": {
   "display_name": "Python 3",
   "language": "python",
   "name": "python3"
  },
  "language_info": {
   "codemirror_mode": {
    "name": "ipython",
    "version": 3
   },
   "file_extension": ".py",
   "mimetype": "text/x-python",
   "name": "python",
   "nbconvert_exporter": "python",
   "pygments_lexer": "ipython3",
   "version": "3.7.0"
  }
 },
 "nbformat": 4,
 "nbformat_minor": 2
}
