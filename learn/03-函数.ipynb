{
 "cells": [
  {
   "cell_type": "markdown",
   "metadata": {},
   "source": [
    "# 函数\n",
    "- 代码的一种组织形式\n",
    "- 一个函数一般完成一项特殊的功能\n",
    "- 函数的使用\n",
    "    - 函数需要先定义\n",
    "    - 使用函数,俗称调用"
   ]
  },
  {
   "cell_type": "code",
   "execution_count": 3,
   "metadata": {},
   "outputs": [],
   "source": [
    "# 定义一个函数\n",
    "# 只是定义的话并不会执行\n",
    "# 1.def关键字,后跟一个空格\n",
    "# 2.函数名,自己定义,起名遵守命名规则,约定俗成,大驼峰命名只能给类用\n",
    "# 3.后面的括号和冒号不能省,括号内可以有参数\n",
    "# 4.函数内所有代码缩进\n",
    "def func():\n",
    "    print(\"我是一个函数\")\n",
    "    print(\"我要完成一个功能\")\n",
    "    print(\"我结束了\")"
   ]
  },
  {
   "cell_type": "code",
   "execution_count": 5,
   "metadata": {},
   "outputs": [
    {
     "name": "stdout",
     "output_type": "stream",
     "text": [
      "我是一个函数\n",
      "我要完成一个功能\n",
      "我结束了\n"
     ]
    }
   ],
   "source": [
    "# 函数的调用\n",
    "# 直接函数名后面跟括号\n",
    "func()"
   ]
  },
  {
   "cell_type": "markdown",
   "metadata": {},
   "source": [
    "## 函数的返回值和参数\n",
    "- 参数:负责给函数传递一些必要的数据或信息\n",
    "    - 形参(形式参数):在函数定义的时候没有具体的值,只是一个占位符号的,称为形参\n",
    "    - 实参(实际参数):在调用汉的时候,输入的值\n",
    "- 返回值:函数的执行结果\n",
    "    - 使用return关键字\n",
    "    - 如果没有return,默认返回一个none\n",
    "    - 函数一旦执行return语句,则无条件返回,即结束函数的执行"
   ]
  },
  {
   "cell_type": "code",
   "execution_count": 9,
   "metadata": {},
   "outputs": [
    {
     "name": "stdout",
     "output_type": "stream",
     "text": [
      "傻逼,你找谁啊\n",
      "有什么可以帮你的吗?\n"
     ]
    }
   ],
   "source": [
    "# 参数定义的使用\n",
    "# 参数person只是一个符号,,代表的是调用的时候某一数据\n",
    "# 调用的时候,会用p的值代替函数中所有person的值\n",
    "\n",
    "# 定义\n",
    "def hello(person):\n",
    "    print(\"{0},你找谁啊\".format(person))\n",
    "    print(\"有什么可以帮你的吗?\")\n",
    "    \n",
    "# 调用    \n",
    "p = \"傻逼\"    \n",
    "hello(p)\n",
    "         "
   ]
  },
  {
   "cell_type": "code",
   "execution_count": 17,
   "metadata": {},
   "outputs": [
    {
     "name": "stdout",
     "output_type": "stream",
     "text": [
      "傻逼,你找谁啊\n",
      "有什么可以帮你的吗?\n",
      "我已经跟傻逼打招呼了,傻逼他不了我\n"
     ]
    }
   ],
   "source": [
    "# return的基本使用\n",
    "# 函数打完招呼后返回一句话\n",
    "\n",
    "# 定义\n",
    "def hello(person):\n",
    "    print(\"{0},你找谁啊\".format(person))\n",
    "    print(\"有什么可以帮你的吗?\")    \n",
    "    return\"我已经跟{0}打招呼了,{1}他不了我\".format(person,person)\n",
    "    \n",
    "# 调用    \n",
    "p = \"傻逼\"    \n",
    "rst = hello(p)# 先调用函数hello(person),即打印两句话,然后返回结果,即return后面的值.(可以把print(rst)去掉查看一下)\n",
    "\n",
    "print(rst)"
   ]
  },
  {
   "cell_type": "code",
   "execution_count": 29,
   "metadata": {},
   "outputs": [
    {
     "name": "stdout",
     "output_type": "stream",
     "text": [
      "张三,你找谁啊\n",
      "哈哈,我提前结束啦\n"
     ]
    }
   ],
   "source": [
    "# return案例2\n",
    "\n",
    "# 定义\n",
    "def hello(person):\n",
    "    print(\"{0},你找谁啊\".format(person))\n",
    "    return\"哈哈,我提前结束啦\"# 函数在返回return的时候无条件结束,返回函数的时候,后面都不会执行了\n",
    "    print(\"有什么可以帮你的吗?\")    \n",
    "    return\"我已经跟{0}打招呼了,{1}他不了我\".format(person,person)\n",
    "\n",
    "p = \"张三\"\n",
    "rst = hello(p)\n",
    "print(rst)"
   ]
  },
  {
   "cell_type": "code",
   "execution_count": 30,
   "metadata": {},
   "outputs": [
    {
     "name": "stdout",
     "output_type": "stream",
     "text": [
      "Help on built-in function print in module builtins:\n",
      "\n",
      "print(...)\n",
      "    print(value, ..., sep=' ', end='\\n', file=sys.stdout, flush=False)\n",
      "    \n",
      "    Prints the values to a stream, or to sys.stdout by default.\n",
      "    Optional keyword arguments:\n",
      "    file:  a file-like object (stream); defaults to the current sys.stdout.\n",
      "    sep:   string inserted between values, default a space.\n",
      "    end:   string appended after the last value, default a newline.\n",
      "    flush: whether to forcibly flush the stream.\n",
      "\n"
     ]
    }
   ],
   "source": [
    "# 查找函数的帮助文档\n",
    "# 1.用help函数\n",
    "help(print)\n",
    "# 2."
   ]
  },
  {
   "cell_type": "code",
   "execution_count": 39,
   "metadata": {},
   "outputs": [
    {
     "name": "stdout",
     "output_type": "stream",
     "text": [
      "1 ********\n",
      "2 4 ********\n",
      "3 6 9 ********\n",
      "4 8 12 16 ********\n",
      "5 10 15 20 25 ********\n",
      "6 12 18 24 30 36 ********\n",
      "7 14 21 28 35 42 49 ********\n",
      "8 16 24 32 40 48 56 64 ********\n",
      "9 18 27 36 45 54 63 72 81 ********\n"
     ]
    }
   ],
   "source": [
    "# 例子:九九乘法表\n",
    "# version 1\n",
    "for row in range(1,10):\n",
    "    # 打印一行\n",
    "    for col in range(1,row+1):\n",
    "        # print函数默认打印任务完成后换行\n",
    "        print(row*col,end=\" \")\n",
    "    print(\"********\")"
   ]
  },
  {
   "cell_type": "code",
   "execution_count": 41,
   "metadata": {},
   "outputs": [
    {
     "name": "stdout",
     "output_type": "stream",
     "text": [
      "1 \n",
      "2 4 \n",
      "3 6 9 \n",
      "4 8 12 16 \n",
      "5 10 15 20 25 \n",
      "6 12 18 24 30 36 \n",
      "7 14 21 28 35 42 49 \n",
      "8 16 24 32 40 48 56 64 \n",
      "9 18 27 36 45 54 63 72 81 \n"
     ]
    }
   ],
   "source": [
    "# 例子:九九乘法表\n",
    "# version 2\n",
    "# 定义一个函数,打印一行九九乘法表\n",
    "def printline(row):\n",
    "    for col in range(1,row+1):\n",
    "        # print函数默认打印任务完成后换行\n",
    "        print(row*col,end=\" \")\n",
    "    print(\"\")\n",
    "\n",
    "for row in range(1,10):\n",
    "    printline(row)\n"
   ]
  },
  {
   "cell_type": "markdown",
   "metadata": {},
   "source": [
    "## 参数详情\n",
    "- [参考资料](https://www.cnblogs.com/bingabcd/p/6671368.html)\n",
    "- Python参考资料:headfirst Python ->零基础入门学习Python(小甲鱼) ,本讲义参考流程的Python- ->习题 - - -> 后期可以参考腾讯公开免费课\n",
    "- 参数分类:\n",
    "    - 普通参数\n",
    "    - 默认参数\n",
    "    - 关键字参数\n",
    "    - 收集参数\n",
    "- 普通参数\n",
    "    - 参见上例\n",
    "    - 定义的时候,直接定义变量名\n",
    "    - 调用的时候,直接把变量或者值放入指定位置\n",
    "            \n",
    "            def 函数名 (参数1,参数2,...):\n",
    "               函数体\n",
    "               \n",
    "            # 调用\n",
    "            函数名(value1,value2,...)\n",
    "            \n",
    "            # 调用的时候,具体参考的事位置,按位置赋值.\n",
    "- 默认参数\n",
    "    - 形参带有默认值\n",
    "    - 调用的时候,如果没有对相应的形参赋值,则使用默认值\n",
    "        \n",
    "            def func_name(p1=v1,p2=v2,...):\n",
    "                func_block\n",
    "            \n",
    "            #调用1\n",
    "            func_name()\n",
    "            \n",
    "            #调用2\n",
    "            value1=100\n",
    "            value2=00\n",
    "            func_name(value1,value2)\n",
    "- 关键字参数\n",
    "    - 语法\n",
    "    \n",
    "            def func(p1=v1,p2=v2...):\n",
    "                func_body\n",
    "                \n",
    "            # 调用参数\n",
    "            func(p1=value1,p2=value2...)\n",
    "    - 比较麻烦,但也有好处:\n",
    "        - 不容易混淆,一般实参和形参只是按照位置一一对应即可,容易出错\n",
    "        - 使用关键字参数,可以不考虑参数位置\n",
    "- 收集参数\n",
    "    - 把没有位置,不能和定义时的参数位置想对应的参数,放入一个特定的数据结构中\n",
    "    - 语法\n",
    "            \n",
    "            def func(*args):\n",
    "                func_body\n",
    "                按照List使用方式访问args得到传入的参数\n",
    "            # 调用\n",
    "            func(p1,p2,p3...)\n",
    "    - 参数名args不是必须这么写,但是,约定俗成\n",
    "    - 参数名args前面必须要有*\n",
    "    - 可以和其他参数并存\n",
    "    \n",
    "### 收集参数之关键字收集参数\n",
    "- 把关键字参数按照字典格式存入收集参数\n",
    "- 语法:\n",
    "\n",
    "            def func(**kwargs):\n",
    "               func_body\n",
    "            \n",
    "            # 调用\n",
    "            func(p1=v1,p2=v2,p3=v3...)\n",
    "            \n",
    "     - kwargs约定俗成\n",
    "     - 调用的时候,把多余的关键字参数放入kwargs\n",
    "     - 访问kwargs需要按字典格式访问\n",
    "           \n",
    "    "
   ]
  },
  {
   "cell_type": "code",
   "execution_count": 2,
   "metadata": {},
   "outputs": [],
   "source": [
    "# 默认参数示例\n",
    "# 报名函数,需要知道学生性别\n",
    "# 学习Python的学生基本都是男生,所有如果没有特殊指定,都认为是男生\n",
    "def reg(name,age,gender=\"male\"):\n",
    "    if gender ==\"male\":\n",
    "        print(\"{0} is {1},and he is a good student\".format(name,age))\n",
    "    else:\n",
    "        print(\"{0} is {1},and she is a good student\".format(name,age))"
   ]
  },
  {
   "cell_type": "code",
   "execution_count": 4,
   "metadata": {},
   "outputs": [
    {
     "name": "stdout",
     "output_type": "stream",
     "text": [
      "明月 is 21,and he is a good student\n",
      "陈三蠢 is 22,and she is a good student\n"
     ]
    }
   ],
   "source": [
    "# 调用默认参数函数案例1\n",
    "\n",
    "reg(\"明月\",21)\n",
    "\n",
    "reg(\"陈三蠢\",22,\"女\")"
   ]
  },
  {
   "cell_type": "code",
   "execution_count": 19,
   "metadata": {},
   "outputs": [
    {
     "name": "stdout",
     "output_type": "stream",
     "text": [
      "i am student\n",
      "我叫傻逼,我今年18岁了,我住天上人间\n",
      "i am student\n",
      "我叫18,我今年傻逼岁了,我住天上人间\n",
      "i am student\n",
      "我叫傻逼,我今年18岁了,我住天上人间\n",
      "i am student\n",
      "我叫傻逼,我今年18岁了,我住天上人间\n"
     ]
    }
   ],
   "source": [
    "# 关键字参数案例\n",
    "...\n",
    "def stu(name,age,addr):\n",
    "    print(\"i am student\")\n",
    "    print(\"我叫{0},我今年{1}岁了,我住{2}\".format(name,age,addr))\n",
    "n = \"傻逼\"\n",
    "a = 18\n",
    "addr = \"天上人间\"\n",
    "\n",
    "stu(n,a,addr)# 正确顺序\n",
    "stu(a,n,addr)# 错误顺序\n",
    "...\n",
    "\n",
    "# 关键字参数案例\n",
    "def stud(name=\"no name \", age=0, addr=\"no address\"):\n",
    "    print(\"i am student\")\n",
    "    print(\"我叫{0},我今年{1}岁了,我住{2}\".format(name, age, addr))\n",
    "n = \"傻逼\"\n",
    "a = 18\n",
    "addr = \"天上人间\"\n",
    "\n",
    "stud(name=n, age=a, addr=addr)# 正确顺序\n",
    "stud(age=a, name=n, addr=addr)# 顺序不影响,对应就可以\n",
    "\n"
   ]
  },
  {
   "cell_type": "code",
   "execution_count": 28,
   "metadata": {},
   "outputs": [
    {
     "name": "stdout",
     "output_type": "stream",
     "text": [
      "你想说什么,输入一下吧傻逼\n",
      "hello 大家好,我先自我介绍下,简单说两句:\n",
      "<class 'tuple'>\n",
      "傻逼,傻逼,\n",
      "hello 大家好,我先自我介绍下,简单说两句:\n",
      "<class 'tuple'>\n",
      "周大师,将夜,什么玩意,\n"
     ]
    }
   ],
   "source": [
    "# 收集参数代码\n",
    "# 函数模拟学生做自我介绍\n",
    "# args看成一个列表\n",
    "def stu( *args):\n",
    "    print(\"hello 大家好,我先自我介绍下,简单说两句:\")\n",
    "    # type函数作用就是检测变量的类型\n",
    "    print(type(args))\n",
    "    # 访问列表的时候通常用for循环\n",
    "    for item in args:\n",
    "        print(item, end = \",\")\n",
    "    print(\"\")\n",
    "    pass\n",
    "n = \"傻逼\"\n",
    "c = input(\"你想说什么,输入一下吧\")\n",
    "\n",
    "stu(n, c)  \n",
    "\n",
    "stu(\"周大师\",\"将夜\",\"什么玩意\")"
   ]
  },
  {
   "cell_type": "code",
   "execution_count": 31,
   "metadata": {},
   "outputs": [
    {
     "name": "stdout",
     "output_type": "stream",
     "text": [
      "hello 大家好,我先自我介绍下,简单说两句:\n",
      "<class 'tuple'>\n",
      "\n"
     ]
    }
   ],
   "source": [
    "# 收集参数案例2\n",
    "# 说明收集参数可以不带任何参数调用,此时收集参数为空tuple\n",
    "stu()"
   ]
  },
  {
   "cell_type": "code",
   "execution_count": 45,
   "metadata": {},
   "outputs": [
    {
     "name": "stdout",
     "output_type": "stream",
     "text": [
      "hello,大家好,我先自我介绍下,简单说几句:\n",
      "<class 'dict'>\n",
      "刘大能\n",
      "19\n",
      "北京大通州区\n",
      "**************************************************\n",
      "hello,大家好,我先自我介绍下,简单说几句:\n",
      "<class 'dict'>\n",
      "周大神\n",
      "hello,大家好,我先自我介绍下,简单说几句:\n",
      "<class 'dict'>\n"
     ]
    }
   ],
   "source": [
    "# 收集参数案例\n",
    "# 自我介绍\n",
    "# 调用的时候,需要使用关键字函数调用\n",
    "def stu(**kwargs):\n",
    "    # 在函数体内对于kwargs的使用不带星号\n",
    "    print(\"hello,大家好,我先自我介绍下,简单说几句:\")\n",
    "    print(type(kwargs))\n",
    "    # 对于字典的访问,Python2和3有区别\n",
    "    for k, v in kwargs.items(): # k是变量名称,v是变量的值\n",
    "        #print(k,\"---\",v)\n",
    "        print(v)\n",
    "  \n",
    "stu(name=\"刘大能\",age=19,addr=\"北京大通州区\")\n",
    "\n",
    "print(\"*\" * 50)\n",
    "stu(name=\"周大神\")\n",
    "\n",
    "stu()#收集参数可以为空"
   ]
  },
  {
   "cell_type": "markdown",
   "metadata": {},
   "source": [
    "### 收集参数混合调用的顺序问题\n",
    "- 收集参数,关键字参数,普通参数可以混合使用\n",
    "- 使用规则就是,普通参数和关键字参数优先\n",
    "- 定义的时候一般找普通参数,关键字参数,收集参数tuple,收集参数dict\n",
    "### 收集参数的解包问题\n",
    "- 把参数放入list中,直接把list中的值放入收集参数中\n",
    "- 语法:参看案例"
   ]
  },
  {
   "cell_type": "code",
   "execution_count": 62,
   "metadata": {},
   "outputs": [
    {
     "name": "stdout",
     "output_type": "stream",
     "text": [
      "hello 大家好\n",
      "我叫傻逼,我今年19大了.\n",
      "我没有爱好,很遗憾\n",
      "********************\n",
      "##############################\n",
      "hello 大家好\n",
      "我叫傻逼,我今年19大了.\n",
      "我没有爱好,很遗憾\n",
      "********************\n",
      "打人\n",
      "我还喜欢放屁\n",
      "我也不知道,反正我想说话\n",
      "##############################\n",
      "磨牙\n",
      "打嗝\n"
     ]
    }
   ],
   "source": [
    "# 收集参数混合调用案例\n",
    "# stu模拟一个学生的自我介绍\n",
    "def stu(name, age, *args,hobby=\"没有\",  **kwargs):\n",
    "    print(\"hello 大家好\")\n",
    "    print(\"我叫{0},我今年{1}大了.\".format(name,age))\n",
    "    if hobby  ==\"没有\":\n",
    "        print(\"我没有爱好,很遗憾\")\n",
    "    else:\n",
    "        print(\"我的爱好是{0}\".format(hobby))\n",
    "    print(\"*\" * 20)\n",
    "    \n",
    "    for i in args:\n",
    "        print(i)\n",
    "    \n",
    "    print(\"#\" * 30)\n",
    "    \n",
    "    for k,v in kwargs.items():\n",
    "        # print(k,\"---\",v)\n",
    "        print(v)\n",
    "        \n",
    "# 变量赋值       \n",
    "name = \"傻逼\"\n",
    "age = \"19\"\n",
    "\n",
    "# 调用函数 \n",
    "stu(name,age)\n",
    "\n",
    "name = \"傻逼\"\n",
    "age = \"19\"\n",
    "hobby = \"打人\"\n",
    "hobby4 = \"吃饭\"\n",
    "# 调用函数 \n",
    "stu(name,age,hobby,\"我还喜欢放屁\",\"我也不知道,反正我想说话\",hobby2=\"磨牙\",hobby3=\"打嗝\")"
   ]
  },
  {
   "cell_type": "code",
   "execution_count": 69,
   "metadata": {},
   "outputs": [
    {
     "name": "stdout",
     "output_type": "stream",
     "text": [
      "开始执行了:\n",
      "<class 'tuple'>\n",
      "0\n",
      "['傻逼', '傻逼二哈', '陈三蠢', 19, 200]\n",
      "开始执行了:\n",
      "<class 'tuple'>\n",
      "0\n",
      "傻逼\n",
      "<class 'tuple'>\n",
      "1\n",
      "傻逼二哈\n",
      "<class 'tuple'>\n",
      "2\n",
      "陈三蠢\n",
      "<class 'tuple'>\n",
      "3\n",
      "19\n",
      "<class 'tuple'>\n",
      "4\n",
      "200\n"
     ]
    }
   ],
   "source": [
    "# 收集参数解包问题案例:\n",
    "def stu(*args):\n",
    "    print(\"开始执行了:\")\n",
    "    n = 0 # 表示循环次数,用来调试程序\n",
    "    for i in args:\n",
    "        print(type(args))\n",
    "        print(n)\n",
    "        n += 1\n",
    "        print(i)\n",
    "\n",
    "#stu(\"傻逼\",\"傻逼二哈\",\"陈三蠢\",19, 200)\n",
    "\n",
    "l = [\"傻逼\",\"傻逼二哈\",\"陈三蠢\",19, 200]\n",
    "\n",
    "stu(l)# l当成了一个值,直接打印出来了\n",
    "\n",
    "stu(*l) #l前面加上星号才能解包"
   ]
  },
  {
   "cell_type": "markdown",
   "metadata": {},
   "source": [
    "### 同理,dict类型收集参数一样可以解包,但是\n",
    "    - 对dict类型进行解包\n",
    "    - 需要用到两个星号\n",
    "    \n",
    "## 返回值\n",
    "- 函数和过程的区别\n",
    "    - 有无返回值\n",
    "- 需要return现实返回内容\n",
    "- 如果没有返回,则默认返回none\n",
    "- 推荐写法,无论有无返回值,最后都要以return结束"
   ]
  },
  {
   "cell_type": "code",
   "execution_count": 75,
   "metadata": {},
   "outputs": [
    {
     "name": "stdout",
     "output_type": "stream",
     "text": [
      "有返回值啊\n",
      "1\n",
      "没有返回值\n",
      "None\n"
     ]
    }
   ],
   "source": [
    "# 返回值示例\n",
    "def func_1():\n",
    "    print(\"有返回值啊\")\n",
    "    return 1\n",
    "\n",
    "def func_2():\n",
    "    print(\"没有返回值\")\n",
    "\n",
    "    \n",
    "f1 = func_1()\n",
    "print(f1)\n",
    "\n",
    "f2 = func_2()\n",
    "print(f2)"
   ]
  },
  {
   "cell_type": "markdown",
   "metadata": {},
   "source": [
    "# 函数文档\n",
    "- 函数的文档作用是对当前函数提供使用相关的参考信息\n",
    "- 文档的写法:\n",
    "    - 在函数内部开始的第一行使用三字符串定义符\n",
    "    - 一般具有特定格式\n",
    "    - 参看案例\n",
    "- 文档查看\n",
    "    - 使用help函数,形如help(func)\n",
    "    - 使用__doc__,参看案例"
   ]
  },
  {
   "cell_type": "code",
   "execution_count": 83,
   "metadata": {},
   "outputs": [],
   "source": [
    "# 文档案例\n",
    "# 函数stu是模拟学生的自我介绍 \n",
    "def stu(name, age, *args):\n",
    "    '''这是文档\n",
    "       这是第二行\n",
    "       这是第三行\n",
    "    \n",
    "    '''\n",
    "    print(\"这是个函数\")\n",
    "    "
   ]
  },
  {
   "cell_type": "code",
   "execution_count": 87,
   "metadata": {},
   "outputs": [
    {
     "name": "stdout",
     "output_type": "stream",
     "text": [
      "Help on function stu in module __main__:\n",
      "\n",
      "stu(name, age, *args)\n",
      "    这是文档\n",
      "    这是第二行\n",
      "    这是第三行\n",
      "\n"
     ]
    },
    {
     "data": {
      "text/plain": [
       "'这是文档\\n       这是第二行\\n       这是第三行\\n    \\n    '"
      ]
     },
     "execution_count": 87,
     "metadata": {},
     "output_type": "execute_result"
    }
   ],
   "source": [
    "# 查看函数文档\n",
    "help(stu)\n",
    "stu.__doc__# 两个下划线"
   ]
  }
 ],
 "metadata": {
  "kernelspec": {
   "display_name": "Python 3",
   "language": "python",
   "name": "python3"
  },
  "language_info": {
   "codemirror_mode": {
    "name": "ipython",
    "version": 3
   },
   "file_extension": ".py",
   "mimetype": "text/x-python",
   "name": "python",
   "nbconvert_exporter": "python",
   "pygments_lexer": "ipython3",
   "version": "3.7.0"
  }
 },
 "nbformat": 4,
 "nbformat_minor": 2
}
